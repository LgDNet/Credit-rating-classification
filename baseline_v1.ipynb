{
 "cells": [
  {
   "cell_type": "markdown",
   "id": "40aa3fba-31b6-47bf-9a09-7a205aa648c2",
   "metadata": {},
   "source": [
    "## Baseline V2 - 2024.01.20"
   ]
  },
  {
   "cell_type": "code",
   "execution_count": 1,
   "id": "93a1a3d2-5d74-4dba-9a39-a48646c5d627",
   "metadata": {},
   "outputs": [],
   "source": [
    "from src.models.classification.models import Model\n",
    "from src.base import BasePiepline\n",
    "from src.utils.data_preprocessing import DataPreprocessing\n",
    "from src.utils.manage_pkl_files import get_best_params\n",
    "from src.utils.set_seed import seed_everything\n",
    "\n",
    "SEED = 42 # NOTE: 시드 값 설정\n",
    "seed_everything(SEED)\n",
    "\n",
    "model = Model()"
   ]
  },
  {
   "cell_type": "markdown",
   "id": "2fcd2117",
   "metadata": {},
   "source": [
    "### 전처리 클래스 상속 예시"
   ]
  },
  {
   "cell_type": "code",
   "execution_count": 2,
   "id": "72135014",
   "metadata": {},
   "outputs": [],
   "source": [
    "class AdvancePreprocessing(DataPreprocessing):\n",
    "    def __init__(self, df):\n",
    "        super().__init__(df)\n",
    "\n",
    "\n",
    "    def step_four_method(self):\n",
    "        print(\"step_four method 추가\")\n",
    "        print(\"step_four method 실행\")\n",
    "        self.df[\"추가필드\"] = 1\n",
    "        print(\"step_four method 종료\")\n",
    "        \n",
    "        return self.df"
   ]
  },
  {
   "cell_type": "markdown",
   "id": "0e980ae0",
   "metadata": {},
   "source": [
    "### 분류 모델 클래스 및 파이프라인 선언"
   ]
  },
  {
   "cell_type": "code",
   "execution_count": 3,
   "id": "8a1120f9",
   "metadata": {},
   "outputs": [],
   "source": [
    "class ModelProcess(BasePiepline):\n",
    "    def __init__(self):\n",
    "        super().__init__()\n",
    "\n",
    "    def preprocessing(self, df):\n",
    "        preprocessing = self.preprocessing_instance(df)\n",
    "\n",
    "        return preprocessing()\n",
    "\n",
    "\n",
    "model_process = ModelProcess()\n",
    "# model_process.preprocessing_instance = AdvancePreprocessing  # NOTE: 커스텀 전처리 클래스를 사용할 경우"
   ]
  },
  {
   "cell_type": "markdown",
   "id": "9db2f119",
   "metadata": {},
   "source": [
    "### 최적화 파라미터 값 가져오기"
   ]
  },
  {
   "cell_type": "code",
   "execution_count": 6,
   "id": "1579a001-7d97-4bdd-9657-9ba46352d19a",
   "metadata": {},
   "outputs": [],
   "source": [
    "params = get_best_params()"
   ]
  },
  {
   "cell_type": "markdown",
   "id": "3ccc16a8",
   "metadata": {},
   "source": [
    "### 모델 파라미터 적용"
   ]
  },
  {
   "cell_type": "code",
   "execution_count": 7,
   "id": "8446b332",
   "metadata": {},
   "outputs": [],
   "source": [
    "_model = model.xgboost.set_params(**params)"
   ]
  },
  {
   "cell_type": "markdown",
   "id": "8965af18",
   "metadata": {},
   "source": [
    "### 스코어 확인"
   ]
  },
  {
   "cell_type": "code",
   "execution_count": 8,
   "id": "f39bc233",
   "metadata": {},
   "outputs": [
    {
     "name": "stdout",
     "output_type": "stream",
     "text": [
      "step_four method 추가\n",
      "step_four method 실행\n",
      "step_four method 종료\n",
      "----[Validation Score]-----\n",
      "f1 score : 0.8201\n",
      "precision score : 0.7977\n",
      "recall score : 0.8488\n"
     ]
    }
   ],
   "source": [
    "model_process.train_score(_model)"
   ]
  },
  {
   "cell_type": "markdown",
   "id": "6302255b",
   "metadata": {},
   "source": [
    "### 전체 실행(서브밋 단계 까지)"
   ]
  },
  {
   "cell_type": "code",
   "execution_count": 9,
   "id": "ea601291",
   "metadata": {},
   "outputs": [
    {
     "name": "stdout",
     "output_type": "stream",
     "text": [
      "step_four method 추가\n",
      "step_four method 실행\n",
      "step_four method 종료\n",
      "{'model_name': 'XGBClassifier', 'model_instance': XGBClassifier(base_score=None, booster=None, callbacks=None,\n",
      "              colsample_bylevel=None, colsample_bynode=None,\n",
      "              colsample_bytree=0.8734150979529018, device=None,\n",
      "              early_stopping_rounds=None, enable_categorical=False,\n",
      "              eval_metric=None, feature_types=None, gamma=0.017600210882064204,\n",
      "              grow_policy=None, importance_type=None,\n",
      "              interaction_constraints=None, learning_rate=0.0947263260073529,\n",
      "              max_bin=None, max_cat_threshold=None, max_cat_to_onehot=None,\n",
      "              max_delta_step=None, max_depth=10, max_leaves=None,\n",
      "              min_child_weight=1, missing=nan, monotone_constraints=None,\n",
      "              multi_strategy=None, n_estimators=373, n_jobs=None,\n",
      "              num_parallel_tree=None, objective='multi:softprob', ...)}\n",
      "step_four method 추가\n",
      "step_four method 실행\n",
      "step_four method 종료\n"
     ]
    }
   ],
   "source": [
    "model_process.run(_model)"
   ]
  }
 ],
 "metadata": {
  "kernelspec": {
   "display_name": "Python 3 (ipykernel)",
   "language": "python",
   "name": "python3"
  },
  "language_info": {
   "codemirror_mode": {
    "name": "ipython",
    "version": 3
   },
   "file_extension": ".py",
   "mimetype": "text/x-python",
   "name": "python",
   "nbconvert_exporter": "python",
   "pygments_lexer": "ipython3",
   "version": "3.9.13"
  }
 },
 "nbformat": 4,
 "nbformat_minor": 5
}
