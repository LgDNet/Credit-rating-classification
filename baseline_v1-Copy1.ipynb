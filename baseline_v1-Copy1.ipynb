{
 "cells": [
  {
   "cell_type": "markdown",
   "id": "40aa3fba-31b6-47bf-9a09-7a205aa648c2",
   "metadata": {},
   "source": [
    "# library"
   ]
  },
  {
   "cell_type": "code",
   "execution_count": 170,
   "id": "93a1a3d2-5d74-4dba-9a39-a48646c5d627",
   "metadata": {},
   "outputs": [],
   "source": [
    "import numpy as np\n",
    "import pickle\n",
    "import pandas as pd\n",
    "from sklearn.preprocessing import LabelEncoder\n",
    "from sklearn.model_selection import train_test_split\n",
    "from sklearn.metrics import f1_score\n",
    "from sklearn.preprocessing import MinMaxScaler\n",
    "\n",
    "from data.load import Data\n",
    "from src.models.classification.models import Model"
   ]
  },
  {
   "cell_type": "code",
   "execution_count": 171,
   "id": "64f8e3f3-559a-434a-b099-9105a8149d26",
   "metadata": {},
   "outputs": [
    {
     "name": "stdout",
     "output_type": "stream",
     "text": [
      "[Errno 2] No such file or directory: 'Credit-rating-classification'\n",
      "/Users/kangjiwon/Desktop/HACKATHON/Credit-rating-classification\n"
     ]
    },
    {
     "name": "stderr",
     "output_type": "stream",
     "text": [
      "/Library/Frameworks/Python.framework/Versions/3.10/lib/python3.10/site-packages/IPython/core/magics/osm.py:393: UserWarning: using bookmarks requires you to install the `pickleshare` library.\n",
      "  bkms = self.shell.db.get('bookmarks', {})\n"
     ]
    }
   ],
   "source": [
    "%cd Credit-rating-classification"
   ]
  },
  {
   "cell_type": "code",
   "execution_count": 172,
   "id": "ee38d742-7dde-486b-aab3-8bdf2e9e3e8a",
   "metadata": {},
   "outputs": [],
   "source": [
    "# !pip install -U scikit-learn\n",
    "# !pip install pandas numpy xgboost"
   ]
  },
  {
   "cell_type": "code",
   "execution_count": null,
   "id": "c7da0955-1bcf-462d-8471-b15565e5d0e2",
   "metadata": {},
   "outputs": [],
   "source": []
  },
  {
   "cell_type": "markdown",
   "id": "cc23bd88",
   "metadata": {},
   "source": [
    "### Utils"
   ]
  },
  {
   "cell_type": "code",
   "execution_count": 227,
   "id": "97282bd6",
   "metadata": {},
   "outputs": [],
   "source": [
    "def get_max_score_model_instance(model_info_list):\n",
    "    max_score = model_info_list[0].get(\"model_score\", 0)\n",
    "    max_score_model_instance = model_info_list[0].get(\"model_instance\")\n",
    "    max_score_model_name = model_info_list[0].get(\"model_name\")\n",
    "\n",
    "    for model_info in model_info_list[1:]:\n",
    "        model_score = model_info.get(\"model_score\", 0)\n",
    "        model_instance = model_info.get(\"model_instance\")\n",
    "        model_name = model_info.get(\"model_name\")\n",
    "        \n",
    "        if model_score > max_score:\n",
    "            max_score = model_score\n",
    "            max_score_model_instance = model_instance\n",
    "            max_score_model_name = model_name\n",
    "        \n",
    "    print(f\"MAX SCORE model instance: {max_score_model_name} TEST SCORE: {max_score}\")\n",
    "    return max_score_model_instance"
   ]
  },
  {
   "cell_type": "code",
   "execution_count": 663,
   "id": "5ed6d4b3-994e-42d3-84c5-446b2d0e32be",
   "metadata": {},
   "outputs": [],
   "source": [
    "class ModelProcess:\n",
    "    def __init__(self):\n",
    "        \"\"\" 생성자 \"\"\"\n",
    "        self._train = Data.train\n",
    "        self._test = Data.test\n",
    "        self._submit = Data.submission\n",
    "\n",
    "        self.result = None\n",
    "    \n",
    "    def preprocessing(self, df):\n",
    "        \"\"\" 전처리기 \"\"\"\n",
    "        #init\n",
    "        df = df.drop(columns=['ID','근로기간','연체계좌수'])\n",
    "\n",
    "        #------------------------------------------------JW------------------------------------------------------#\n",
    "        \"\"\"연체 관련\"\"\"\n",
    "        # index_list = df[(df['총연체금액']!=0.0) | (df['연체계좌수']!=0.0) | (df['최근_2년간_연체_횟수']!=0.0)].index\n",
    "        # df.loc[index_list,'연체유무'] = 1\n",
    "        # df.fillna(0, inplace=True)\n",
    "        # df['연체유무'] = df['연체유무'].astype(int)\n",
    "        # df.drop(['연체계좌수','총연체금액'], axis=1, inplace=True)\n",
    "\n",
    "        # index_list = df[df['연체계좌수']!=0.0].index # 연체계좌수가 존재하면 연체 유\n",
    "        # df.loc[index_list,'연체유무'] = 1\n",
    "        # df.fillna(0, inplace=True)\n",
    "        # df['연체유무'] = df['연체유무'].astype(int)\n",
    "        # df.drop(['최근_2년간_연체_횟수','총연체금액','연체계좌수'], axis=1, inplace=True)\n",
    "        \n",
    "        # 최근_2년간_연체_횟수 -> 최근_2년간_연체 유무\n",
    "        is_overdue = df[df['최근_2년간_연체_횟수']!=0.0].index\n",
    "        df.loc[is_overdue,'최근_2년간_연체_횟수']=1.0\n",
    "        df['최근_2년간_연체']=df['최근_2년간_연체_횟수']\n",
    "        df.drop('최근_2년간_연체_횟수', axis=1, inplace=True)\n",
    "\n",
    "        # '총연체금액' 범주화\n",
    "        # bins = [1, 10000, 20000, 30000, 40000, 50000, 60000, 70000, 80000]\n",
    "        # df['총연체금액'] = pd.cut(df['총연체금액'], bins=bins, labels=False).fillna(-1.0)\n",
    "                \n",
    "       \n",
    "        # df['대출기간'] = df['대출기간'].astype(str).str[:3].astype(int)\n",
    "        # df['월원금상환금'] = df['대출금액']/df['대출기간']\n",
    "        # df['상환개월'] = df['총상환원금']/df['월원금상환금']\n",
    "        # df.drop(['월원금상환금'],axis=1, inplace=True)\n",
    "        # df['상환개월'] = df['상환개월'].round().astype(int)\n",
    "\n",
    "        \"\"\" 부채관련 \"\"\"\n",
    "        # 월원금상환금\n",
    "        df['대출기간'] = df['대출기간'].astype(str).str[:3].astype(int)\n",
    "        df['월원금상환금'] = round(df['대출금액']/df['대출기간'])\n",
    "        # 상환개월\n",
    "        df['상환개월'] = np.trunc(df['총상환원금']/df['월원금상환금'])\n",
    "        \n",
    "        df.drop(['월원금상환금'], axis=1, inplace=True)\n",
    "        \n",
    "        #------------------------------------------------------------#\n",
    "        \n",
    "        #sb\n",
    "        # 'ANY' 컬럼 지우기\n",
    "        # df[df[\"주택소유상태\"] != \"ANY\"].reset_index(drop = True,inplace = True)\n",
    "        # train_object = df['대출목적'].unique()\n",
    "        # oject_dict = dict()\n",
    "        # for i, v in enumerate(df['대출목적'].unique()):\n",
    "        #     oject_dict[v] = i\n",
    "        # df['대출목적'] = df['대출목적'].apply(lambda x: oject_dict.get(x, '기타'))\n",
    "        #------------------------------------------------------------#\n",
    "        \n",
    "        #GY\n",
    "        # df['연간소득'] = pd.qcut(df['연간소득'], q=10, labels = False)\n",
    "        # df[\"총상환금\"] = df[\"총상환원금\"] + df[\"총상환이자\"]\n",
    "        # df[\"남은대출금액\"] = df[\"대출금액\"] - df[\"총상환금\"]\n",
    "        # df = df.drop(columns=['총상환금'])\n",
    "        #------------------------------------------------------------#\n",
    "        \n",
    "        # label 범주형 수치형으로 변환\n",
    "        categorical_features = ['대출기간', '주택소유상태', '대출목적']\n",
    "        for i in categorical_features:\n",
    "            le = LabelEncoder()\n",
    "            df[i] = le.fit_transform(df[i])\n",
    "        return df\n",
    "        \n",
    "    def train(self, _model):\n",
    "        \"\"\" model 훈련 \"\"\"\n",
    "        # train 전처리\n",
    "        print(f\"MODE: {str(_model)}\")\n",
    "        self._train = self.preprocessing(self._train)\n",
    "        \n",
    "        # train 분리\n",
    "        X = self._train.drop(['대출등급'],axis = 1)\n",
    "        Y = self._train['대출등급']\n",
    "        \n",
    "        self.label_encoder = LabelEncoder()\n",
    "        Y = self.label_encoder.fit_transform(Y)\n",
    "        \n",
    "        x_train, x_test, y_train, y_test = train_test_split(X,Y, test_size=0.1 ,random_state=42,stratify=Y)\n",
    "\n",
    "        \n",
    "        # model 훈련 및 평가\n",
    "        _model.fit(X_train_scaled,y_train)\n",
    "        y_pred = _model.predict(X_train_scaled)\n",
    "        score = f1_score(y_train,y_pred, average=\"macro\")\n",
    "        print(f\"[Train Score]: {score:.2f}\", end = \" \")\n",
    "\n",
    "        y_pred = _model.predict(x_test)\n",
    "        score = f1_score(y_test,y_pred, average=\"macro\")\n",
    "        print(f\"[Test Score]: {score:.5f}\")\n",
    "\n",
    "        \n",
    "        model_name = str(_model).split(\"(\")[0]\n",
    "        #전체 학습 시\n",
    "        # _model.fit(X,Y)\n",
    "        # score = 0.5\n",
    "        return {\n",
    "            \"model_name\": model_name,\n",
    "            \"model_instance\": _model,\n",
    "            \"model_score\": round(score, 2)\n",
    "        }\n",
    "        \n",
    "    def test(self, _model):\n",
    "        \"\"\" model 추론 \"\"\"\n",
    "        # test 전처리\n",
    "        self._test = self.preprocessing(Data.test) \n",
    "         # 테스트 데이터의 스케일링\n",
    "        # X_test_scaled = self.robust_scaler.transform(x_test)\n",
    "        # self._test = self.scaler(self._test) #scaler\n",
    "        print(\"TEST SCALE RESULT\")\n",
    "        print(_test)\n",
    "        # model 예측\n",
    "        real = _model.predict(_test)\n",
    "        pred = self.label_encoder.inverse_transform(real)\n",
    "        self.result = pred\n",
    "        # self.result = np.where(real == 0, 'A', \n",
    "        #               np.where(real == 1, 'B',\n",
    "        #               np.where(real == 2, 'C',\n",
    "        #               np.where(real == 3, 'D',\n",
    "        #               np.where(real == 4, 'E', 'F')))))\n",
    "        return _model\n",
    "        \n",
    "    def submit(self, _model):\n",
    "        \"\"\" 제출 \"\"\"\n",
    "        # csv 저장\n",
    "        self._submit['대출등급'] = self.result\n",
    "        self._submit.to_csv(\"submit_2.csv\",index = False)\n",
    "        \n",
    "        # 모델 저장\n",
    "        # model_name = str(_model).split(\"(\")[0]\n",
    "        with open('model.pkl', 'wb') as file:\n",
    "            pickle.dump(_model, file)\n",
    "    \n",
    "    def auto_test(self):\n",
    "        model_set = Model()\n",
    "        models = model_set.get_model_instances()\n",
    "\n",
    "        model_info_list = list(map(self.train, models))\n",
    "        model_instance = get_max_score_model_instance(model_info_list)\n",
    "\n",
    "        self.test(model_instance)\n",
    "        self.submit(model_instance)\n",
    "            "
   ]
  },
  {
   "cell_type": "code",
   "execution_count": 664,
   "id": "1579a001-7d97-4bdd-9657-9ba46352d19a",
   "metadata": {},
   "outputs": [],
   "source": [
    "model_process = ModelProcess()"
   ]
  },
  {
   "cell_type": "markdown",
   "id": "0628207f",
   "metadata": {},
   "source": [
    "### 전체 모델을 대상 학습 및 테스트 평가"
   ]
  },
  {
   "cell_type": "code",
   "execution_count": 665,
   "id": "7b2b559f",
   "metadata": {},
   "outputs": [],
   "source": [
    "# model_process.auto_test()"
   ]
  },
  {
   "cell_type": "markdown",
   "id": "5f3d33ef",
   "metadata": {},
   "source": [
    "### 개별 모델 학습"
   ]
  },
  {
   "cell_type": "code",
   "execution_count": 666,
   "id": "b5525ddb-5ab8-49db-9a7c-559a97ce721b",
   "metadata": {},
   "outputs": [
    {
     "name": "stdout",
     "output_type": "stream",
     "text": [
      "필요한 모듈이 설치되지 않았습니다: No module named 'catboost'\n",
      "필요한 모듈이 설치되지 않았습니다: No module named 'lightgbm'\n"
     ]
    }
   ],
   "source": [
    "# model1 = MLPClassifier(hidden_layer_sizes=(50,50), max_iter=1000, random_state=1)\n",
    "model_set = Model()\n",
    "models = model_set.get_model_instances()"
   ]
  },
  {
   "cell_type": "code",
   "execution_count": 667,
   "id": "7ba2e834-7de6-4850-8a32-c1fecd1df27d",
   "metadata": {},
   "outputs": [],
   "source": [
    "# model_li = list(map(model_process.train, models))"
   ]
  },
  {
   "cell_type": "code",
   "execution_count": 668,
   "id": "0db7533b-0ab2-4038-9e52-0ce8f685aea5",
   "metadata": {},
   "outputs": [],
   "source": [
    "# 데이터 로드\n",
    "with open('./data/best_params.pkl', 'rb') as f:\n",
    "\tdata = pickle.load(f)"
   ]
  },
  {
   "cell_type": "code",
   "execution_count": 669,
   "id": "c9381143-667d-490a-9711-cda2e8f4b006",
   "metadata": {},
   "outputs": [],
   "source": [
    "# data"
   ]
  },
  {
   "cell_type": "code",
   "execution_count": 670,
   "id": "5f37bac3-6c72-4671-ba0f-134f7d4dffa3",
   "metadata": {},
   "outputs": [
    {
     "name": "stdout",
     "output_type": "stream",
     "text": [
      "MODE: XGBClassifier(base_score=None, booster=None, callbacks=None,\n",
      "              colsample_bylevel=None, colsample_bynode=None,\n",
      "              colsample_bytree=0.8734150979529018, device=None,\n",
      "              early_stopping_rounds=None, enable_categorical=False,\n",
      "              eval_metric=None, feature_types=None, gamma=0.017600210882064204,\n",
      "              grow_policy=None, importance_type=None,\n",
      "              interaction_constraints=None, learning_rate=0.0947263260073529,\n",
      "              max_bin=None, max_cat_threshold=None, max_cat_to_onehot=None,\n",
      "              max_delta_step=None, max_depth=10, max_leaves=None,\n",
      "              min_child_weight=1, missing=nan, monotone_constraints=None,\n",
      "              multi_strategy=None, n_estimators=373, n_jobs=None,\n",
      "              num_parallel_tree=None, random_state=42, ...)\n",
      "[Train Score]: 0.99 [Test Score]: 0.06181\n"
     ]
    }
   ],
   "source": [
    "_model = model_process.train(models[-4].set_params(**data))"
   ]
  },
  {
   "cell_type": "markdown",
   "id": "5dae5cfe-42d8-4e2f-8101-f0699bed49f7",
   "metadata": {},
   "source": [
    "##### 부채관련\n",
    "\n",
    "상환개월 추가: 0.81857\n",
    "상환개월 추가&총상환이자 Drop: 0.66796\n",
    "\n",
    "상환개월, 이자율 추가: 0.81857\n",
    "총계좌수 Drop: 0.80624"
   ]
  },
  {
   "cell_type": "code",
   "execution_count": null,
   "id": "c4745577-5a5f-42a2-b459-6dc087248ec8",
   "metadata": {
    "jupyter": {
     "source_hidden": true
    }
   },
   "outputs": [],
   "source": [
    "# 연체계좌수 Drop 가정\n",
    "\n",
    "# 총연체금액 Drop 0.80853\n",
    "# 2년 연체 Drop 0.81141\n",
    "\n",
    "# 총연체금액 범주화&2년 연체 Drop 0.80918\n",
    "# 총연체금액 범주화&2년 연체 살리기 0.80738\n",
    "\n",
    "# 최근_2년간_연체_횟수->최근_2년간_연체 유무 & 총연체금액 Drop 0.80649\n",
    "# 최근_2년간_연체_횟수->최근_2년간_연체 유무 & 총연체금액 살리기 0.80967 ✔️\n",
    "\n",
    "# 최근_2년간_연체_횟수->최근_2년간_연체 유무 & 총연체금액 범주화 0.80830\n",
    "\n",
    "# ALL Drop 0.81499"
   ]
  },
  {
   "cell_type": "code",
   "execution_count": null,
   "id": "ae69dd23-7cf8-4dac-b61b-6190a55f0ff0",
   "metadata": {},
   "outputs": [],
   "source": []
  },
  {
   "cell_type": "code",
   "execution_count": 409,
   "id": "58a4b355",
   "metadata": {},
   "outputs": [
    {
     "data": {
      "text/html": [
       "<style>#sk-container-id-5 {color: black;}#sk-container-id-5 pre{padding: 0;}#sk-container-id-5 div.sk-toggleable {background-color: white;}#sk-container-id-5 label.sk-toggleable__label {cursor: pointer;display: block;width: 100%;margin-bottom: 0;padding: 0.3em;box-sizing: border-box;text-align: center;}#sk-container-id-5 label.sk-toggleable__label-arrow:before {content: \"▸\";float: left;margin-right: 0.25em;color: #696969;}#sk-container-id-5 label.sk-toggleable__label-arrow:hover:before {color: black;}#sk-container-id-5 div.sk-estimator:hover label.sk-toggleable__label-arrow:before {color: black;}#sk-container-id-5 div.sk-toggleable__content {max-height: 0;max-width: 0;overflow: hidden;text-align: left;background-color: #f0f8ff;}#sk-container-id-5 div.sk-toggleable__content pre {margin: 0.2em;color: black;border-radius: 0.25em;background-color: #f0f8ff;}#sk-container-id-5 input.sk-toggleable__control:checked~div.sk-toggleable__content {max-height: 200px;max-width: 100%;overflow: auto;}#sk-container-id-5 input.sk-toggleable__control:checked~label.sk-toggleable__label-arrow:before {content: \"▾\";}#sk-container-id-5 div.sk-estimator input.sk-toggleable__control:checked~label.sk-toggleable__label {background-color: #d4ebff;}#sk-container-id-5 div.sk-label input.sk-toggleable__control:checked~label.sk-toggleable__label {background-color: #d4ebff;}#sk-container-id-5 input.sk-hidden--visually {border: 0;clip: rect(1px 1px 1px 1px);clip: rect(1px, 1px, 1px, 1px);height: 1px;margin: -1px;overflow: hidden;padding: 0;position: absolute;width: 1px;}#sk-container-id-5 div.sk-estimator {font-family: monospace;background-color: #f0f8ff;border: 1px dotted black;border-radius: 0.25em;box-sizing: border-box;margin-bottom: 0.5em;}#sk-container-id-5 div.sk-estimator:hover {background-color: #d4ebff;}#sk-container-id-5 div.sk-parallel-item::after {content: \"\";width: 100%;border-bottom: 1px solid gray;flex-grow: 1;}#sk-container-id-5 div.sk-label:hover label.sk-toggleable__label {background-color: #d4ebff;}#sk-container-id-5 div.sk-serial::before {content: \"\";position: absolute;border-left: 1px solid gray;box-sizing: border-box;top: 0;bottom: 0;left: 50%;z-index: 0;}#sk-container-id-5 div.sk-serial {display: flex;flex-direction: column;align-items: center;background-color: white;padding-right: 0.2em;padding-left: 0.2em;position: relative;}#sk-container-id-5 div.sk-item {position: relative;z-index: 1;}#sk-container-id-5 div.sk-parallel {display: flex;align-items: stretch;justify-content: center;background-color: white;position: relative;}#sk-container-id-5 div.sk-item::before, #sk-container-id-5 div.sk-parallel-item::before {content: \"\";position: absolute;border-left: 1px solid gray;box-sizing: border-box;top: 0;bottom: 0;left: 50%;z-index: -1;}#sk-container-id-5 div.sk-parallel-item {display: flex;flex-direction: column;z-index: 1;position: relative;background-color: white;}#sk-container-id-5 div.sk-parallel-item:first-child::after {align-self: flex-end;width: 50%;}#sk-container-id-5 div.sk-parallel-item:last-child::after {align-self: flex-start;width: 50%;}#sk-container-id-5 div.sk-parallel-item:only-child::after {width: 0;}#sk-container-id-5 div.sk-dashed-wrapped {border: 1px dashed gray;margin: 0 0.4em 0.5em 0.4em;box-sizing: border-box;padding-bottom: 0.4em;background-color: white;}#sk-container-id-5 div.sk-label label {font-family: monospace;font-weight: bold;display: inline-block;line-height: 1.2em;}#sk-container-id-5 div.sk-label-container {text-align: center;}#sk-container-id-5 div.sk-container {/* jupyter's `normalize.less` sets `[hidden] { display: none; }` but bootstrap.min.css set `[hidden] { display: none !important; }` so we also need the `!important` here to be able to override the default hidden behavior on the sphinx rendered scikit-learn.org. See: https://github.com/scikit-learn/scikit-learn/issues/21755 */display: inline-block !important;position: relative;}#sk-container-id-5 div.sk-text-repr-fallback {display: none;}</style><div id=\"sk-container-id-5\" class=\"sk-top-container\"><div class=\"sk-text-repr-fallback\"><pre>XGBClassifier(base_score=None, booster=None, callbacks=None,\n",
       "              colsample_bylevel=None, colsample_bynode=None,\n",
       "              colsample_bytree=0.8734150979529018, device=None,\n",
       "              early_stopping_rounds=None, enable_categorical=False,\n",
       "              eval_metric=None, feature_types=None, gamma=0.017600210882064204,\n",
       "              grow_policy=None, importance_type=None,\n",
       "              interaction_constraints=None, learning_rate=0.0947263260073529,\n",
       "              max_bin=None, max_cat_threshold=None, max_cat_to_onehot=None,\n",
       "              max_delta_step=None, max_depth=10, max_leaves=None,\n",
       "              min_child_weight=1, missing=nan, monotone_constraints=None,\n",
       "              multi_strategy=None, n_estimators=373, n_jobs=None,\n",
       "              num_parallel_tree=None, objective=&#x27;multi:softprob&#x27;, ...)</pre><b>In a Jupyter environment, please rerun this cell to show the HTML representation or trust the notebook. <br />On GitHub, the HTML representation is unable to render, please try loading this page with nbviewer.org.</b></div><div class=\"sk-container\" hidden><div class=\"sk-item\"><div class=\"sk-estimator sk-toggleable\"><input class=\"sk-toggleable__control sk-hidden--visually\" id=\"sk-estimator-id-5\" type=\"checkbox\" checked><label for=\"sk-estimator-id-5\" class=\"sk-toggleable__label sk-toggleable__label-arrow\">XGBClassifier</label><div class=\"sk-toggleable__content\"><pre>XGBClassifier(base_score=None, booster=None, callbacks=None,\n",
       "              colsample_bylevel=None, colsample_bynode=None,\n",
       "              colsample_bytree=0.8734150979529018, device=None,\n",
       "              early_stopping_rounds=None, enable_categorical=False,\n",
       "              eval_metric=None, feature_types=None, gamma=0.017600210882064204,\n",
       "              grow_policy=None, importance_type=None,\n",
       "              interaction_constraints=None, learning_rate=0.0947263260073529,\n",
       "              max_bin=None, max_cat_threshold=None, max_cat_to_onehot=None,\n",
       "              max_delta_step=None, max_depth=10, max_leaves=None,\n",
       "              min_child_weight=1, missing=nan, monotone_constraints=None,\n",
       "              multi_strategy=None, n_estimators=373, n_jobs=None,\n",
       "              num_parallel_tree=None, objective=&#x27;multi:softprob&#x27;, ...)</pre></div></div></div></div></div>"
      ],
      "text/plain": [
       "XGBClassifier(base_score=None, booster=None, callbacks=None,\n",
       "              colsample_bylevel=None, colsample_bynode=None,\n",
       "              colsample_bytree=0.8734150979529018, device=None,\n",
       "              early_stopping_rounds=None, enable_categorical=False,\n",
       "              eval_metric=None, feature_types=None, gamma=0.017600210882064204,\n",
       "              grow_policy=None, importance_type=None,\n",
       "              interaction_constraints=None, learning_rate=0.0947263260073529,\n",
       "              max_bin=None, max_cat_threshold=None, max_cat_to_onehot=None,\n",
       "              max_delta_step=None, max_depth=10, max_leaves=None,\n",
       "              min_child_weight=1, missing=nan, monotone_constraints=None,\n",
       "              multi_strategy=None, n_estimators=373, n_jobs=None,\n",
       "              num_parallel_tree=None, objective='multi:softprob', ...)"
      ]
     },
     "execution_count": 409,
     "metadata": {},
     "output_type": "execute_result"
    }
   ],
   "source": [
    "model_process.test(_model.get(\"model_instance\"))"
   ]
  },
  {
   "cell_type": "code",
   "execution_count": 410,
   "id": "54bf54a0",
   "metadata": {},
   "outputs": [],
   "source": [
    "model_process.submit(_model.get(\"model_instance\"))"
   ]
  },
  {
   "cell_type": "code",
   "execution_count": null,
   "id": "43413816",
   "metadata": {},
   "outputs": [],
   "source": []
  },
  {
   "cell_type": "code",
   "execution_count": null,
   "id": "e22e4fbe-3206-4e6b-8fb4-922ff743996a",
   "metadata": {},
   "outputs": [],
   "source": []
  },
  {
   "cell_type": "code",
   "execution_count": 411,
   "id": "417dc62e-078c-4f28-aef5-862baaf672c9",
   "metadata": {},
   "outputs": [],
   "source": [
    "#0.827\n",
    "\n",
    "#0.83033 연체계좌수\n",
    "#0.82653 총연체\n",
    "#0.82698 최근_2년간_연체_횟수\n",
    "\n",
    "# 0.83029 연체계좌수\n",
    "# 0.82 ~ 총연체금액\n",
    "# 0.83300 최근_2년간_연체_횟수\n",
    "\n",
    "# 0.80853\n",
    "# 0.80835\n",
    "# ,'총연체금액'"
   ]
  },
  {
   "cell_type": "code",
   "execution_count": null,
   "id": "579141b8-73ca-4028-a250-45507ee0d2c6",
   "metadata": {},
   "outputs": [],
   "source": []
  }
 ],
 "metadata": {
  "kernelspec": {
   "display_name": "Python 3 (ipykernel)",
   "language": "python",
   "name": "python3"
  },
  "language_info": {
   "codemirror_mode": {
    "name": "ipython",
    "version": 3
   },
   "file_extension": ".py",
   "mimetype": "text/x-python",
   "name": "python",
   "nbconvert_exporter": "python",
   "pygments_lexer": "ipython3",
   "version": "3.10.4"
  }
 },
 "nbformat": 4,
 "nbformat_minor": 5
}
