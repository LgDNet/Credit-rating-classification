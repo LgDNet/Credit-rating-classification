{
 "cells": [
  {
   "cell_type": "markdown",
   "id": "40aa3fba-31b6-47bf-9a09-7a205aa648c2",
   "metadata": {},
   "source": [
    "# library"
   ]
  },
  {
   "cell_type": "code",
   "execution_count": 23,
   "id": "93a1a3d2-5d74-4dba-9a39-a48646c5d627",
   "metadata": {},
   "outputs": [],
   "source": [
    "import pandas as pd\n",
    "import numpy as np\n",
    "import pickle\n",
    "\n",
    "from sklearn.preprocessing import OrdinalEncoder\n",
    "from sklearn.model_selection import train_test_split\n",
    "from sklearn.metrics import f1_score\n",
    "from xgboost import XGBClassifier"
   ]
  },
  {
   "cell_type": "code",
   "execution_count": 24,
   "id": "5ed6d4b3-994e-42d3-84c5-446b2d0e32be",
   "metadata": {},
   "outputs": [],
   "source": [
    "class Model:\n",
    "    def __init__(self):\n",
    "        \"\"\" 생성자 \"\"\"\n",
    "        self._train = pd.read_csv('./data/train.csv')\n",
    "        self._test = pd.read_csv('./data/test.csv')\n",
    "        self._submit = pd.read_csv('./data/sample_submission.csv')\n",
    "\n",
    "        self.result = None\n",
    "        \n",
    "        self.model = XGBClassifier()\n",
    "    \n",
    "    def preprocessing(self, df):\n",
    "        \"\"\" 전처리기 \"\"\"\n",
    "        categoric_col = df.select_dtypes(include='object').columns # 범주형\n",
    "        numeric_col = df.select_dtypes(include='int64').columns # 수치형\n",
    "        \n",
    "        # 범주형 수치형으로 변환\n",
    "        ordinal_encoder = OrdinalEncoder()\n",
    "        df[categoric_col] = ordinal_encoder.fit_transform(df[categoric_col])\n",
    "        return df\n",
    "        \n",
    "    def train(self):\n",
    "        \"\"\" model 훈련 \"\"\"\n",
    "        # train 전처리\n",
    "        self._train = self.preprocessing(self._train) \n",
    "\n",
    "        # train 분리\n",
    "        X = self._train.drop(['대출등급'],axis = 1)\n",
    "        Y = self._train['대출등급']\n",
    "        x_train, x_test, y_train, y_test = train_test_split(X,Y, test_size=0.2 ,random_state=42,stratify=Y)\n",
    "        \n",
    "        # model 훈련 및 평가\n",
    "        self.model.fit(x_train,y_train)\n",
    "        y_pred = self.model.predict(x_test)\n",
    "        score = f1_score(y_test,y_pred, average=\"macro\")\n",
    "        print(f\"[Score]: {score:.2f}\")\n",
    "        \n",
    "    def test(self):\n",
    "        \"\"\" model 추론 \"\"\"\n",
    "        # test 전처리\n",
    "        self._test = self.preprocessing(self._test) \n",
    "        \n",
    "        # model 예측\n",
    "        real = self.model.predict(self._test)\n",
    "        self.result = np.where(real == 0, 'A', \n",
    "                      np.where(real == 1, 'B',\n",
    "                      np.where(real == 2, 'C',\n",
    "                      np.where(real == 3, 'D',\n",
    "                      np.where(real == 4, 'E', 'F')))))\n",
    "        \n",
    "    def submit(self):\n",
    "        \"\"\" 제출 \"\"\"\n",
    "        # csv 저장\n",
    "        self._submit['대출등급'] = self.result\n",
    "        self._submit.to_csv(\"submit.csv\",index = False)\n",
    "        \n",
    "        # 모델 저장\n",
    "        with open('model.pkl', 'wb') as file:\n",
    "            pickle.dump(self.model, file)"
   ]
  },
  {
   "cell_type": "code",
   "execution_count": 25,
   "id": "1579a001-7d97-4bdd-9657-9ba46352d19a",
   "metadata": {},
   "outputs": [],
   "source": [
    "model = Model()"
   ]
  },
  {
   "cell_type": "code",
   "execution_count": 26,
   "id": "d54aed4a-c906-4f3b-8d7a-f1fa2bd95655",
   "metadata": {},
   "outputs": [
    {
     "name": "stdout",
     "output_type": "stream",
     "text": [
      "[Score]: 0.78\n"
     ]
    }
   ],
   "source": [
    "model.train()"
   ]
  },
  {
   "cell_type": "code",
   "execution_count": 27,
   "id": "cbc5bd67-8cd0-4005-a582-5b1d327969ca",
   "metadata": {},
   "outputs": [],
   "source": [
    "model.test()"
   ]
  },
  {
   "cell_type": "code",
   "execution_count": 28,
   "id": "2af6dfac-0aec-4dd5-a878-8a09db224160",
   "metadata": {},
   "outputs": [],
   "source": [
    "model.submit()"
   ]
  },
  {
   "cell_type": "code",
   "execution_count": null,
   "id": "c3135964-9495-47ed-8783-3ca71e25d94e",
   "metadata": {},
   "outputs": [],
   "source": []
  }
 ],
 "metadata": {
  "kernelspec": {
   "display_name": "Python 3 (ipykernel)",
   "language": "python",
   "name": "python3"
  },
  "language_info": {
   "codemirror_mode": {
    "name": "ipython",
    "version": 3
   },
   "file_extension": ".py",
   "mimetype": "text/x-python",
   "name": "python",
   "nbconvert_exporter": "python",
   "pygments_lexer": "ipython3",
   "version": "3.11.5"
  }
 },
 "nbformat": 4,
 "nbformat_minor": 5
}
