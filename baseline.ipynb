{
 "cells": [
  {
   "cell_type": "markdown",
   "id": "40aa3fba-31b6-47bf-9a09-7a205aa648c2",
   "metadata": {},
   "source": [
    "# library"
   ]
  },
  {
   "cell_type": "code",
   "execution_count": 143,
   "id": "93a1a3d2-5d74-4dba-9a39-a48646c5d627",
   "metadata": {},
   "outputs": [],
   "source": [
    "import pandas as pd\n",
    "import numpy as np\n",
    "import pickle\n",
    "\n",
    "from sklearn.preprocessing import OrdinalEncoder\n",
    "from sklearn.model_selection import train_test_split\n",
    "from sklearn.metrics import f1_score\n",
    "from xgboost import XGBClassifier\n",
    "from sklearn.preprocessing import StandardScaler"
   ]
  },
  {
   "cell_type": "code",
   "execution_count": 144,
   "id": "6c7948fd-60f3-41a5-b430-b805c59bc74e",
   "metadata": {},
   "outputs": [],
   "source": [
    "from sklearn.neural_network import MLPClassifier"
   ]
  },
  {
   "cell_type": "code",
   "execution_count": 145,
   "id": "5ed6d4b3-994e-42d3-84c5-446b2d0e32be",
   "metadata": {},
   "outputs": [],
   "source": [
    "class Model:\n",
    "    def __init__(self):\n",
    "        \"\"\" 생성자 \"\"\"\n",
    "        self._train = pd.read_csv('./data/train.csv')\n",
    "        self._test = pd.read_csv('./data/test.csv')\n",
    "        self._submit = pd.read_csv('./data/sample_submission.csv')\n",
    "\n",
    "        self.result = None\n",
    "    \n",
    "    def preprocessing(self, df):\n",
    "        \"\"\" 전처리기 \"\"\"\n",
    "        #JW\n",
    "        df['대출금액'] = df['대출금액'] * 0.6\n",
    "        df.drop(\"대출기간\",axis = 1, inplace = True)\n",
    "        #sb\n",
    "        # 'ANY' 컬럼 지우기\n",
    "        df[df[\"주택소유상태\"] != \"ANY\"].reset_index(drop = True,inplace = True)\n",
    "        train_object = df['대출목적'].unique()\n",
    "        oject_dict = dict()\n",
    "        for i, v in enumerate(df['대출목적'].unique()):\n",
    "            oject_dict[v] = i\n",
    "        df['대출목적'] = df['대출목적'].apply(lambda x: oject_dict.get(x, '기타'))\n",
    "        # 근로연수 컬럼의 데이터를 문자열로 변환\n",
    "        df['근로기간'] = df['근로기간'].astype(str)\n",
    "        # 숫자만 추출\n",
    "        df['근로기간'] = df['근로기간'].str.extract('(\\d+)').astype(float)\n",
    "        # 'Unknown'은 NaN으로 변환되므로, 이를 -1로 대체\n",
    "        df['근로기간'].fillna(-1, inplace=True)\n",
    "        # '10+'와 같은 표현은 10으로 처리되므로, 이를 10 이상의 값으로 대체\n",
    "        df.loc[df['근로기간'] == 10, '근로기간'] = 11\n",
    "        # '<1 year'와 같은 표현은 NaN으로 처리되므로, 이를 0으로 대체\n",
    "        df.loc[df['근로기간'].isna(), '근로기간'] = 0\n",
    "#label\n",
    "        categoric_col = df.select_dtypes(include='object').columns # 범주형\n",
    "        numeric_col = df.select_dtypes(include='int64').columns # 수치형\n",
    "        \n",
    "        # 범주형 수치형으로 변환\n",
    "        ordinal_encoder = OrdinalEncoder()\n",
    "        df[categoric_col] = ordinal_encoder.fit_transform(df[categoric_col])\n",
    "        return df\n",
    "        \n",
    "    def scaler(self,df):\n",
    "        # numeric_col = df.select_dtypes(include='int64').columns\n",
    "        df_col = df.columns\n",
    "        if \"대출등급\" in df_col:\n",
    "            df_col = df_col[:-1]\n",
    "        scaler = StandardScaler()\n",
    "        df[df_col] = scaler.fit_transform(df[df_col])\n",
    "        return df\n",
    "        \n",
    "    def train(self, _model):\n",
    "        \"\"\" model 훈련 \"\"\"\n",
    "        # train 전처리\n",
    "        self._train = self.preprocessing(self._train) \n",
    "        \n",
    "        categoric_col = [\"ID\",\"대출등급\"]\n",
    "        ordinal_encoder = OrdinalEncoder()\n",
    "        self._train[categoric_col] = ordinal_encoder.fit_transform(self._train[categoric_col])\n",
    "        self._train = self.scaler(self._train) #scaler\n",
    "        # train 분리\n",
    "        X = self._train.drop(['대출등급'],axis = 1)\n",
    "        Y = self._train['대출등급']\n",
    "        x_train, x_test, y_train, y_test = train_test_split(X,Y, test_size=0.2 ,random_state=42,stratify=Y)\n",
    "        \n",
    "        # model 훈련 및 평가\n",
    "        _model.fit(x_train,y_train)\n",
    "        y_pred = _model.predict(x_test)\n",
    "        score = f1_score(y_test,y_pred, average=\"macro\")\n",
    "        print(f\"[Score]: {score:.2f}\")\n",
    "        return _model\n",
    "        \n",
    "    def test(self, _model):\n",
    "        \"\"\" model 추론 \"\"\"\n",
    "        # test 전처리\n",
    "        self._test = self.preprocessing(self._test) \n",
    "        self._test = self.scaler(self._test) #scaler\n",
    "        \n",
    "        # model 예측\n",
    "        real = _model.predict(self._test)\n",
    "        self.result = np.where(real == 0, 'A', \n",
    "                      np.where(real == 1, 'B',\n",
    "                      np.where(real == 2, 'C',\n",
    "                      np.where(real == 3, 'D',\n",
    "                      np.where(real == 4, 'E', 'F')))))\n",
    "        return _model\n",
    "        \n",
    "    def submit(self, _model):\n",
    "        \"\"\" 제출 \"\"\"\n",
    "        # csv 저장\n",
    "        self._submit['대출등급'] = self.result\n",
    "        self._submit.to_csv(\"submit_2.csv\",index = False)\n",
    "        \n",
    "        # 모델 저장\n",
    "        with open('model.pkl', 'wb') as file:\n",
    "            pickle.dump(_model, file)"
   ]
  },
  {
   "cell_type": "code",
   "execution_count": 146,
   "id": "1579a001-7d97-4bdd-9657-9ba46352d19a",
   "metadata": {},
   "outputs": [],
   "source": [
    "model = Model()"
   ]
  },
  {
   "cell_type": "code",
   "execution_count": 147,
   "id": "b5525ddb-5ab8-49db-9a7c-559a97ce721b",
   "metadata": {},
   "outputs": [],
   "source": [
    "# model1 = MLPClassifier(hidden_layer_sizes=(50,50), max_iter=1000, random_state=1)\n",
    "model2 = XGBClassifier()\n",
    "models = [model2]"
   ]
  },
  {
   "cell_type": "code",
   "execution_count": 148,
   "id": "7ba2e834-7de6-4850-8a32-c1fecd1df27d",
   "metadata": {},
   "outputs": [
    {
     "name": "stdout",
     "output_type": "stream",
     "text": [
      "[Score]: 0.75\n"
     ]
    }
   ],
   "source": [
    "model_li = list(map(model.train, models))"
   ]
  },
  {
   "cell_type": "code",
   "execution_count": 149,
   "id": "1f151670-f3a9-46c5-afb7-5676c4b864e7",
   "metadata": {},
   "outputs": [
    {
     "data": {
      "text/html": [
       "<style>#sk-container-id-1 {color: black;}#sk-container-id-1 pre{padding: 0;}#sk-container-id-1 div.sk-toggleable {background-color: white;}#sk-container-id-1 label.sk-toggleable__label {cursor: pointer;display: block;width: 100%;margin-bottom: 0;padding: 0.3em;box-sizing: border-box;text-align: center;}#sk-container-id-1 label.sk-toggleable__label-arrow:before {content: \"▸\";float: left;margin-right: 0.25em;color: #696969;}#sk-container-id-1 label.sk-toggleable__label-arrow:hover:before {color: black;}#sk-container-id-1 div.sk-estimator:hover label.sk-toggleable__label-arrow:before {color: black;}#sk-container-id-1 div.sk-toggleable__content {max-height: 0;max-width: 0;overflow: hidden;text-align: left;background-color: #f0f8ff;}#sk-container-id-1 div.sk-toggleable__content pre {margin: 0.2em;color: black;border-radius: 0.25em;background-color: #f0f8ff;}#sk-container-id-1 input.sk-toggleable__control:checked~div.sk-toggleable__content {max-height: 200px;max-width: 100%;overflow: auto;}#sk-container-id-1 input.sk-toggleable__control:checked~label.sk-toggleable__label-arrow:before {content: \"▾\";}#sk-container-id-1 div.sk-estimator input.sk-toggleable__control:checked~label.sk-toggleable__label {background-color: #d4ebff;}#sk-container-id-1 div.sk-label input.sk-toggleable__control:checked~label.sk-toggleable__label {background-color: #d4ebff;}#sk-container-id-1 input.sk-hidden--visually {border: 0;clip: rect(1px 1px 1px 1px);clip: rect(1px, 1px, 1px, 1px);height: 1px;margin: -1px;overflow: hidden;padding: 0;position: absolute;width: 1px;}#sk-container-id-1 div.sk-estimator {font-family: monospace;background-color: #f0f8ff;border: 1px dotted black;border-radius: 0.25em;box-sizing: border-box;margin-bottom: 0.5em;}#sk-container-id-1 div.sk-estimator:hover {background-color: #d4ebff;}#sk-container-id-1 div.sk-parallel-item::after {content: \"\";width: 100%;border-bottom: 1px solid gray;flex-grow: 1;}#sk-container-id-1 div.sk-label:hover label.sk-toggleable__label {background-color: #d4ebff;}#sk-container-id-1 div.sk-serial::before {content: \"\";position: absolute;border-left: 1px solid gray;box-sizing: border-box;top: 0;bottom: 0;left: 50%;z-index: 0;}#sk-container-id-1 div.sk-serial {display: flex;flex-direction: column;align-items: center;background-color: white;padding-right: 0.2em;padding-left: 0.2em;position: relative;}#sk-container-id-1 div.sk-item {position: relative;z-index: 1;}#sk-container-id-1 div.sk-parallel {display: flex;align-items: stretch;justify-content: center;background-color: white;position: relative;}#sk-container-id-1 div.sk-item::before, #sk-container-id-1 div.sk-parallel-item::before {content: \"\";position: absolute;border-left: 1px solid gray;box-sizing: border-box;top: 0;bottom: 0;left: 50%;z-index: -1;}#sk-container-id-1 div.sk-parallel-item {display: flex;flex-direction: column;z-index: 1;position: relative;background-color: white;}#sk-container-id-1 div.sk-parallel-item:first-child::after {align-self: flex-end;width: 50%;}#sk-container-id-1 div.sk-parallel-item:last-child::after {align-self: flex-start;width: 50%;}#sk-container-id-1 div.sk-parallel-item:only-child::after {width: 0;}#sk-container-id-1 div.sk-dashed-wrapped {border: 1px dashed gray;margin: 0 0.4em 0.5em 0.4em;box-sizing: border-box;padding-bottom: 0.4em;background-color: white;}#sk-container-id-1 div.sk-label label {font-family: monospace;font-weight: bold;display: inline-block;line-height: 1.2em;}#sk-container-id-1 div.sk-label-container {text-align: center;}#sk-container-id-1 div.sk-container {/* jupyter's `normalize.less` sets `[hidden] { display: none; }` but bootstrap.min.css set `[hidden] { display: none !important; }` so we also need the `!important` here to be able to override the default hidden behavior on the sphinx rendered scikit-learn.org. See: https://github.com/scikit-learn/scikit-learn/issues/21755 */display: inline-block !important;position: relative;}#sk-container-id-1 div.sk-text-repr-fallback {display: none;}</style><div id=\"sk-container-id-1\" class=\"sk-top-container\"><div class=\"sk-text-repr-fallback\"><pre>XGBClassifier(base_score=None, booster=None, callbacks=None,\n",
       "              colsample_bylevel=None, colsample_bynode=None,\n",
       "              colsample_bytree=None, device=None, early_stopping_rounds=None,\n",
       "              enable_categorical=False, eval_metric=None, feature_types=None,\n",
       "              gamma=None, grow_policy=None, importance_type=None,\n",
       "              interaction_constraints=None, learning_rate=None, max_bin=None,\n",
       "              max_cat_threshold=None, max_cat_to_onehot=None,\n",
       "              max_delta_step=None, max_depth=None, max_leaves=None,\n",
       "              min_child_weight=None, missing=nan, monotone_constraints=None,\n",
       "              multi_strategy=None, n_estimators=None, n_jobs=None,\n",
       "              num_parallel_tree=None, objective=&#x27;multi:softprob&#x27;, ...)</pre><b>In a Jupyter environment, please rerun this cell to show the HTML representation or trust the notebook. <br />On GitHub, the HTML representation is unable to render, please try loading this page with nbviewer.org.</b></div><div class=\"sk-container\" hidden><div class=\"sk-item\"><div class=\"sk-estimator sk-toggleable\"><input class=\"sk-toggleable__control sk-hidden--visually\" id=\"sk-estimator-id-1\" type=\"checkbox\" checked><label for=\"sk-estimator-id-1\" class=\"sk-toggleable__label sk-toggleable__label-arrow\">XGBClassifier</label><div class=\"sk-toggleable__content\"><pre>XGBClassifier(base_score=None, booster=None, callbacks=None,\n",
       "              colsample_bylevel=None, colsample_bynode=None,\n",
       "              colsample_bytree=None, device=None, early_stopping_rounds=None,\n",
       "              enable_categorical=False, eval_metric=None, feature_types=None,\n",
       "              gamma=None, grow_policy=None, importance_type=None,\n",
       "              interaction_constraints=None, learning_rate=None, max_bin=None,\n",
       "              max_cat_threshold=None, max_cat_to_onehot=None,\n",
       "              max_delta_step=None, max_depth=None, max_leaves=None,\n",
       "              min_child_weight=None, missing=nan, monotone_constraints=None,\n",
       "              multi_strategy=None, n_estimators=None, n_jobs=None,\n",
       "              num_parallel_tree=None, objective=&#x27;multi:softprob&#x27;, ...)</pre></div></div></div></div></div>"
      ],
      "text/plain": [
       "XGBClassifier(base_score=None, booster=None, callbacks=None,\n",
       "              colsample_bylevel=None, colsample_bynode=None,\n",
       "              colsample_bytree=None, device=None, early_stopping_rounds=None,\n",
       "              enable_categorical=False, eval_metric=None, feature_types=None,\n",
       "              gamma=None, grow_policy=None, importance_type=None,\n",
       "              interaction_constraints=None, learning_rate=None, max_bin=None,\n",
       "              max_cat_threshold=None, max_cat_to_onehot=None,\n",
       "              max_delta_step=None, max_depth=None, max_leaves=None,\n",
       "              min_child_weight=None, missing=nan, monotone_constraints=None,\n",
       "              multi_strategy=None, n_estimators=None, n_jobs=None,\n",
       "              num_parallel_tree=None, objective='multi:softprob', ...)"
      ]
     },
     "execution_count": 149,
     "metadata": {},
     "output_type": "execute_result"
    }
   ],
   "source": [
    "model.test(model_li[0])"
   ]
  },
  {
   "cell_type": "code",
   "execution_count": 150,
   "id": "a612c082-22b8-4331-8386-78be4cc0264b",
   "metadata": {},
   "outputs": [],
   "source": [
    "model.submit(model_li[0])"
   ]
  },
  {
   "cell_type": "code",
   "execution_count": null,
   "id": "1df97b87-a44e-4bdb-a65a-555095b84bfa",
   "metadata": {},
   "outputs": [],
   "source": []
  },
  {
   "cell_type": "code",
   "execution_count": null,
   "id": "2d9eae44-44f7-4b54-9046-790974052db4",
   "metadata": {},
   "outputs": [],
   "source": [
    "m"
   ]
  }
 ],
 "metadata": {
  "kernelspec": {
   "display_name": "Python 3 (ipykernel)",
   "language": "python",
   "name": "python3"
  },
  "language_info": {
   "codemirror_mode": {
    "name": "ipython",
    "version": 3
   },
   "file_extension": ".py",
   "mimetype": "text/x-python",
   "name": "python",
   "nbconvert_exporter": "python",
   "pygments_lexer": "ipython3",
   "version": "3.11.5"
  }
 },
 "nbformat": 4,
 "nbformat_minor": 5
}
