{
 "cells": [
  {
   "cell_type": "code",
   "execution_count": 101,
   "id": "75804137-5e1c-4aa9-9be8-4e413f0edced",
   "metadata": {},
   "outputs": [],
   "source": [
    "# !pip3 install pandas\n",
    "# !pip3 install -U scikit-learn\n",
    "# !pip3 install xgboost"
   ]
  },
  {
   "cell_type": "code",
   "execution_count": 1,
   "id": "b8aa8fb5-a531-422d-85a9-547cd223710c",
   "metadata": {},
   "outputs": [],
   "source": [
    "import pandas as pd"
   ]
  },
  {
   "cell_type": "code",
   "execution_count": 2,
   "id": "f850924e-33e4-4894-bfe8-e2ddb3e2ee09",
   "metadata": {},
   "outputs": [],
   "source": [
    "train = pd.read_csv('./data/train.csv')\n",
    "test = pd.read_csv('./data/test.csv')\n",
    "submit = pd.read_csv('./data/sample_submission.csv')"
   ]
  },
  {
   "cell_type": "code",
   "execution_count": 3,
   "id": "4d73d308-8b3f-41e4-808b-68c308887697",
   "metadata": {},
   "outputs": [
    {
     "data": {
      "text/html": [
       "<div>\n",
       "<style scoped>\n",
       "    .dataframe tbody tr th:only-of-type {\n",
       "        vertical-align: middle;\n",
       "    }\n",
       "\n",
       "    .dataframe tbody tr th {\n",
       "        vertical-align: top;\n",
       "    }\n",
       "\n",
       "    .dataframe thead th {\n",
       "        text-align: right;\n",
       "    }\n",
       "</style>\n",
       "<table border=\"1\" class=\"dataframe\">\n",
       "  <thead>\n",
       "    <tr style=\"text-align: right;\">\n",
       "      <th></th>\n",
       "      <th>ID</th>\n",
       "      <th>대출금액</th>\n",
       "      <th>대출기간</th>\n",
       "      <th>근로기간</th>\n",
       "      <th>주택소유상태</th>\n",
       "      <th>연간소득</th>\n",
       "      <th>부채_대비_소득_비율</th>\n",
       "      <th>총계좌수</th>\n",
       "      <th>대출목적</th>\n",
       "      <th>최근_2년간_연체_횟수</th>\n",
       "      <th>총상환원금</th>\n",
       "      <th>총상환이자</th>\n",
       "      <th>총연체금액</th>\n",
       "      <th>연체계좌수</th>\n",
       "      <th>대출등급</th>\n",
       "    </tr>\n",
       "  </thead>\n",
       "  <tbody>\n",
       "    <tr>\n",
       "      <th>0</th>\n",
       "      <td>TRAIN_00000</td>\n",
       "      <td>12480000</td>\n",
       "      <td>36 months</td>\n",
       "      <td>6 years</td>\n",
       "      <td>RENT</td>\n",
       "      <td>72000000</td>\n",
       "      <td>18.90</td>\n",
       "      <td>15</td>\n",
       "      <td>부채 통합</td>\n",
       "      <td>0</td>\n",
       "      <td>0</td>\n",
       "      <td>0.0</td>\n",
       "      <td>0.0</td>\n",
       "      <td>0.0</td>\n",
       "      <td>C</td>\n",
       "    </tr>\n",
       "    <tr>\n",
       "      <th>1</th>\n",
       "      <td>TRAIN_00001</td>\n",
       "      <td>14400000</td>\n",
       "      <td>60 months</td>\n",
       "      <td>10+ years</td>\n",
       "      <td>MORTGAGE</td>\n",
       "      <td>130800000</td>\n",
       "      <td>22.33</td>\n",
       "      <td>21</td>\n",
       "      <td>주택 개선</td>\n",
       "      <td>0</td>\n",
       "      <td>373572</td>\n",
       "      <td>234060.0</td>\n",
       "      <td>0.0</td>\n",
       "      <td>0.0</td>\n",
       "      <td>B</td>\n",
       "    </tr>\n",
       "    <tr>\n",
       "      <th>2</th>\n",
       "      <td>TRAIN_00002</td>\n",
       "      <td>12000000</td>\n",
       "      <td>36 months</td>\n",
       "      <td>5 years</td>\n",
       "      <td>MORTGAGE</td>\n",
       "      <td>96000000</td>\n",
       "      <td>8.60</td>\n",
       "      <td>14</td>\n",
       "      <td>부채 통합</td>\n",
       "      <td>0</td>\n",
       "      <td>928644</td>\n",
       "      <td>151944.0</td>\n",
       "      <td>0.0</td>\n",
       "      <td>0.0</td>\n",
       "      <td>A</td>\n",
       "    </tr>\n",
       "    <tr>\n",
       "      <th>3</th>\n",
       "      <td>TRAIN_00003</td>\n",
       "      <td>14400000</td>\n",
       "      <td>36 months</td>\n",
       "      <td>8 years</td>\n",
       "      <td>MORTGAGE</td>\n",
       "      <td>132000000</td>\n",
       "      <td>15.09</td>\n",
       "      <td>15</td>\n",
       "      <td>부채 통합</td>\n",
       "      <td>0</td>\n",
       "      <td>325824</td>\n",
       "      <td>153108.0</td>\n",
       "      <td>0.0</td>\n",
       "      <td>0.0</td>\n",
       "      <td>C</td>\n",
       "    </tr>\n",
       "    <tr>\n",
       "      <th>4</th>\n",
       "      <td>TRAIN_00004</td>\n",
       "      <td>18000000</td>\n",
       "      <td>60 months</td>\n",
       "      <td>Unknown</td>\n",
       "      <td>RENT</td>\n",
       "      <td>71736000</td>\n",
       "      <td>25.39</td>\n",
       "      <td>19</td>\n",
       "      <td>주요 구매</td>\n",
       "      <td>0</td>\n",
       "      <td>228540</td>\n",
       "      <td>148956.0</td>\n",
       "      <td>0.0</td>\n",
       "      <td>0.0</td>\n",
       "      <td>B</td>\n",
       "    </tr>\n",
       "  </tbody>\n",
       "</table>\n",
       "</div>"
      ],
      "text/plain": [
       "            ID      대출금액        대출기간       근로기간    주택소유상태       연간소득  \\\n",
       "0  TRAIN_00000  12480000   36 months    6 years      RENT   72000000   \n",
       "1  TRAIN_00001  14400000   60 months  10+ years  MORTGAGE  130800000   \n",
       "2  TRAIN_00002  12000000   36 months    5 years  MORTGAGE   96000000   \n",
       "3  TRAIN_00003  14400000   36 months    8 years  MORTGAGE  132000000   \n",
       "4  TRAIN_00004  18000000   60 months    Unknown      RENT   71736000   \n",
       "\n",
       "   부채_대비_소득_비율  총계좌수   대출목적  최근_2년간_연체_횟수   총상환원금     총상환이자  총연체금액  연체계좌수 대출등급  \n",
       "0        18.90    15  부채 통합             0       0       0.0    0.0    0.0    C  \n",
       "1        22.33    21  주택 개선             0  373572  234060.0    0.0    0.0    B  \n",
       "2         8.60    14  부채 통합             0  928644  151944.0    0.0    0.0    A  \n",
       "3        15.09    15  부채 통합             0  325824  153108.0    0.0    0.0    C  \n",
       "4        25.39    19  주요 구매             0  228540  148956.0    0.0    0.0    B  "
      ]
     },
     "execution_count": 3,
     "metadata": {},
     "output_type": "execute_result"
    }
   ],
   "source": [
    "train.head()"
   ]
  },
  {
   "cell_type": "code",
   "execution_count": 4,
   "id": "a8ffbbff-8ee3-4ed3-8493-30e89cee98e6",
   "metadata": {},
   "outputs": [
    {
     "data": {
      "text/plain": [
       "Index(['ID', '대출금액', '대출기간', '근로기간', '주택소유상태', '연간소득', '부채_대비_소득_비율', '총계좌수',\n",
       "       '대출목적', '최근_2년간_연체_횟수', '총상환원금', '총상환이자', '총연체금액', '연체계좌수', '대출등급'],\n",
       "      dtype='object')"
      ]
     },
     "execution_count": 4,
     "metadata": {},
     "output_type": "execute_result"
    }
   ],
   "source": [
    "train.columns"
   ]
  },
  {
   "cell_type": "code",
   "execution_count": 5,
   "metadata": {},
   "outputs": [
    {
     "name": "stdout",
     "output_type": "stream",
     "text": [
      "<class 'pandas.core.frame.DataFrame'>\n",
      "RangeIndex: 96294 entries, 0 to 96293\n",
      "Data columns (total 15 columns):\n",
      " #   Column        Non-Null Count  Dtype  \n",
      "---  ------        --------------  -----  \n",
      " 0   ID            96294 non-null  object \n",
      " 1   대출금액          96294 non-null  int64  \n",
      " 2   대출기간          96294 non-null  object \n",
      " 3   근로기간          96294 non-null  object \n",
      " 4   주택소유상태        96294 non-null  object \n",
      " 5   연간소득          96294 non-null  int64  \n",
      " 6   부채_대비_소득_비율   96294 non-null  float64\n",
      " 7   총계좌수          96294 non-null  int64  \n",
      " 8   대출목적          96294 non-null  object \n",
      " 9   최근_2년간_연체_횟수  96294 non-null  int64  \n",
      " 10  총상환원금         96294 non-null  int64  \n",
      " 11  총상환이자         96294 non-null  float64\n",
      " 12  총연체금액         96294 non-null  float64\n",
      " 13  연체계좌수         96294 non-null  float64\n",
      " 14  대출등급          96294 non-null  object \n",
      "dtypes: float64(4), int64(5), object(6)\n",
      "memory usage: 11.0+ MB\n"
     ]
    }
   ],
   "source": [
    "train.info()"
   ]
  },
  {
   "cell_type": "code",
   "execution_count": 6,
   "metadata": {},
   "outputs": [
    {
     "data": {
      "text/html": [
       "<div>\n",
       "<style scoped>\n",
       "    .dataframe tbody tr th:only-of-type {\n",
       "        vertical-align: middle;\n",
       "    }\n",
       "\n",
       "    .dataframe tbody tr th {\n",
       "        vertical-align: top;\n",
       "    }\n",
       "\n",
       "    .dataframe thead th {\n",
       "        text-align: right;\n",
       "    }\n",
       "</style>\n",
       "<table border=\"1\" class=\"dataframe\">\n",
       "  <thead>\n",
       "    <tr style=\"text-align: right;\">\n",
       "      <th></th>\n",
       "      <th>대출금액</th>\n",
       "      <th>연간소득</th>\n",
       "      <th>부채_대비_소득_비율</th>\n",
       "      <th>총계좌수</th>\n",
       "      <th>최근_2년간_연체_횟수</th>\n",
       "      <th>총상환원금</th>\n",
       "      <th>총상환이자</th>\n",
       "      <th>총연체금액</th>\n",
       "      <th>연체계좌수</th>\n",
       "    </tr>\n",
       "  </thead>\n",
       "  <tbody>\n",
       "    <tr>\n",
       "      <th>대출금액</th>\n",
       "      <td>1.000000</td>\n",
       "      <td>0.273975</td>\n",
       "      <td>0.002263</td>\n",
       "      <td>0.212309</td>\n",
       "      <td>-0.014775</td>\n",
       "      <td>0.379061</td>\n",
       "      <td>0.615680</td>\n",
       "      <td>0.011853</td>\n",
       "      <td>0.000182</td>\n",
       "    </tr>\n",
       "    <tr>\n",
       "      <th>연간소득</th>\n",
       "      <td>0.273975</td>\n",
       "      <td>1.000000</td>\n",
       "      <td>-0.044594</td>\n",
       "      <td>0.145403</td>\n",
       "      <td>0.040260</td>\n",
       "      <td>0.137552</td>\n",
       "      <td>0.114311</td>\n",
       "      <td>0.000333</td>\n",
       "      <td>0.009854</td>\n",
       "    </tr>\n",
       "    <tr>\n",
       "      <th>부채_대비_소득_비율</th>\n",
       "      <td>0.002263</td>\n",
       "      <td>-0.044594</td>\n",
       "      <td>1.000000</td>\n",
       "      <td>0.058830</td>\n",
       "      <td>0.000699</td>\n",
       "      <td>-0.016180</td>\n",
       "      <td>0.018565</td>\n",
       "      <td>0.000711</td>\n",
       "      <td>0.000051</td>\n",
       "    </tr>\n",
       "    <tr>\n",
       "      <th>총계좌수</th>\n",
       "      <td>0.212309</td>\n",
       "      <td>0.145403</td>\n",
       "      <td>0.058830</td>\n",
       "      <td>1.000000</td>\n",
       "      <td>0.112092</td>\n",
       "      <td>0.083615</td>\n",
       "      <td>0.116299</td>\n",
       "      <td>0.000037</td>\n",
       "      <td>0.023652</td>\n",
       "    </tr>\n",
       "    <tr>\n",
       "      <th>최근_2년간_연체_횟수</th>\n",
       "      <td>-0.014775</td>\n",
       "      <td>0.040260</td>\n",
       "      <td>0.000699</td>\n",
       "      <td>0.112092</td>\n",
       "      <td>1.000000</td>\n",
       "      <td>-0.010048</td>\n",
       "      <td>0.008095</td>\n",
       "      <td>0.004612</td>\n",
       "      <td>0.133632</td>\n",
       "    </tr>\n",
       "    <tr>\n",
       "      <th>총상환원금</th>\n",
       "      <td>0.379061</td>\n",
       "      <td>0.137552</td>\n",
       "      <td>-0.016180</td>\n",
       "      <td>0.083615</td>\n",
       "      <td>-0.010048</td>\n",
       "      <td>1.000000</td>\n",
       "      <td>0.412385</td>\n",
       "      <td>0.015379</td>\n",
       "      <td>-0.005190</td>\n",
       "    </tr>\n",
       "    <tr>\n",
       "      <th>총상환이자</th>\n",
       "      <td>0.615680</td>\n",
       "      <td>0.114311</td>\n",
       "      <td>0.018565</td>\n",
       "      <td>0.116299</td>\n",
       "      <td>0.008095</td>\n",
       "      <td>0.412385</td>\n",
       "      <td>1.000000</td>\n",
       "      <td>0.057838</td>\n",
       "      <td>0.009257</td>\n",
       "    </tr>\n",
       "    <tr>\n",
       "      <th>총연체금액</th>\n",
       "      <td>0.011853</td>\n",
       "      <td>0.000333</td>\n",
       "      <td>0.000711</td>\n",
       "      <td>0.000037</td>\n",
       "      <td>0.004612</td>\n",
       "      <td>0.015379</td>\n",
       "      <td>0.057838</td>\n",
       "      <td>1.000000</td>\n",
       "      <td>0.006620</td>\n",
       "    </tr>\n",
       "    <tr>\n",
       "      <th>연체계좌수</th>\n",
       "      <td>0.000182</td>\n",
       "      <td>0.009854</td>\n",
       "      <td>0.000051</td>\n",
       "      <td>0.023652</td>\n",
       "      <td>0.133632</td>\n",
       "      <td>-0.005190</td>\n",
       "      <td>0.009257</td>\n",
       "      <td>0.006620</td>\n",
       "      <td>1.000000</td>\n",
       "    </tr>\n",
       "  </tbody>\n",
       "</table>\n",
       "</div>"
      ],
      "text/plain": [
       "                  대출금액      연간소득  부채_대비_소득_비율      총계좌수  최근_2년간_연체_횟수  \\\n",
       "대출금액          1.000000  0.273975     0.002263  0.212309     -0.014775   \n",
       "연간소득          0.273975  1.000000    -0.044594  0.145403      0.040260   \n",
       "부채_대비_소득_비율   0.002263 -0.044594     1.000000  0.058830      0.000699   \n",
       "총계좌수          0.212309  0.145403     0.058830  1.000000      0.112092   \n",
       "최근_2년간_연체_횟수 -0.014775  0.040260     0.000699  0.112092      1.000000   \n",
       "총상환원금         0.379061  0.137552    -0.016180  0.083615     -0.010048   \n",
       "총상환이자         0.615680  0.114311     0.018565  0.116299      0.008095   \n",
       "총연체금액         0.011853  0.000333     0.000711  0.000037      0.004612   \n",
       "연체계좌수         0.000182  0.009854     0.000051  0.023652      0.133632   \n",
       "\n",
       "                 총상환원금     총상환이자     총연체금액     연체계좌수  \n",
       "대출금액          0.379061  0.615680  0.011853  0.000182  \n",
       "연간소득          0.137552  0.114311  0.000333  0.009854  \n",
       "부채_대비_소득_비율  -0.016180  0.018565  0.000711  0.000051  \n",
       "총계좌수          0.083615  0.116299  0.000037  0.023652  \n",
       "최근_2년간_연체_횟수 -0.010048  0.008095  0.004612  0.133632  \n",
       "총상환원금         1.000000  0.412385  0.015379 -0.005190  \n",
       "총상환이자         0.412385  1.000000  0.057838  0.009257  \n",
       "총연체금액         0.015379  0.057838  1.000000  0.006620  \n",
       "연체계좌수        -0.005190  0.009257  0.006620  1.000000  "
      ]
     },
     "execution_count": 6,
     "metadata": {},
     "output_type": "execute_result"
    }
   ],
   "source": [
    "\n",
    "# 상관 관계 보기\n",
    "train.corr()"
   ]
  },
  {
   "cell_type": "code",
   "execution_count": 106,
   "id": "4080adfe-da80-4ec3-a6c1-8eed11b41a26",
   "metadata": {},
   "outputs": [],
   "source": [
    "categoric_col = train.select_dtypes(include='object').columns # 카테고리형 컬럼\n",
    "numeric_col = train.select_dtypes(include='int64').columns # 수치형 컬럼"
   ]
  },
  {
   "cell_type": "code",
   "execution_count": 107,
   "id": "f7bc40a8-50ea-474c-8fae-2258a970eaf9",
   "metadata": {},
   "outputs": [
    {
     "data": {
      "text/plain": [
       "Index(['ID', '대출기간', '근로기간', '주택소유상태', '대출목적', '대출등급'], dtype='object')"
      ]
     },
     "execution_count": 107,
     "metadata": {},
     "output_type": "execute_result"
    }
   ],
   "source": [
    "categoric_col"
   ]
  },
  {
   "cell_type": "code",
   "execution_count": 108,
   "id": "423c07ea-ad2d-4001-97f9-830743fed271",
   "metadata": {},
   "outputs": [],
   "source": [
    "#카테고리화 수치형으로 변환\n",
    "ordinal_encoder = OrdinalEncoder()\n",
    "train[categoric_col] = ordinal_encoder.fit_transform(train[categoric_col])"
   ]
  },
  {
   "cell_type": "code",
   "execution_count": 109,
   "id": "cb20568e-f8c2-4027-9f57-e3c54b1c24ce",
   "metadata": {},
   "outputs": [],
   "source": [
    "pred_list = ['A', 'B', 'C', 'D', 'E', 'F', 'G']"
   ]
  },
  {
   "cell_type": "code",
   "execution_count": null,
   "id": "a14314b8-2d22-4ade-bce3-42f9e9eefea5",
   "metadata": {},
   "outputs": [],
   "source": []
  },
  {
   "cell_type": "code",
   "execution_count": 110,
   "id": "2d0f04e0-6d89-48be-bddf-20193272c7bf",
   "metadata": {},
   "outputs": [],
   "source": [
    "from sklearn.model_selection import train_test_split\n",
    "from sklearn.metrics import f1_score\n",
    "from xgboost import XGBClassifier"
   ]
  },
  {
   "cell_type": "code",
   "execution_count": 118,
   "id": "e4d1a808-1b7b-4a79-bfbc-b435649e3db4",
   "metadata": {},
   "outputs": [],
   "source": [
    "X = train.drop(['대출등급'],axis = 1)\n",
    "Y = train['대출등급']"
   ]
  },
  {
   "cell_type": "code",
   "execution_count": 119,
   "id": "578402f6-2ad9-4ae1-8c15-b6cb763033d1",
   "metadata": {},
   "outputs": [],
   "source": [
    "x_train, x_test, y_train, y_test = train_test_split(X,Y, test_size=0.2 ,random_state=42,stratify=Y)"
   ]
  },
  {
   "cell_type": "code",
   "execution_count": 120,
   "id": "af1840b2-b1fb-42aa-b733-553188f282dc",
   "metadata": {},
   "outputs": [
    {
     "data": {
      "text/plain": [
       "((77035, 14), (19259, 14), (77035,), (19259,))"
      ]
     },
     "execution_count": 120,
     "metadata": {},
     "output_type": "execute_result"
    }
   ],
   "source": [
    "x_train.shape, x_test.shape, y_train.shape, y_test.shape"
   ]
  },
  {
   "cell_type": "code",
   "execution_count": 121,
   "id": "e4e57f9e-0c9f-4d69-af7f-1ca8c0a242e9",
   "metadata": {},
   "outputs": [],
   "source": [
    "model = XGBClassifier()"
   ]
  },
  {
   "cell_type": "code",
   "execution_count": 122,
   "id": "44789282-cce6-45da-ac52-2ae465a74701",
   "metadata": {
    "collapsed": true,
    "jupyter": {
     "outputs_hidden": true
    },
    "scrolled": true
   },
   "outputs": [
    {
     "data": {
      "text/html": [
       "<style>#sk-container-id-4 {color: black;}#sk-container-id-4 pre{padding: 0;}#sk-container-id-4 div.sk-toggleable {background-color: white;}#sk-container-id-4 label.sk-toggleable__label {cursor: pointer;display: block;width: 100%;margin-bottom: 0;padding: 0.3em;box-sizing: border-box;text-align: center;}#sk-container-id-4 label.sk-toggleable__label-arrow:before {content: \"▸\";float: left;margin-right: 0.25em;color: #696969;}#sk-container-id-4 label.sk-toggleable__label-arrow:hover:before {color: black;}#sk-container-id-4 div.sk-estimator:hover label.sk-toggleable__label-arrow:before {color: black;}#sk-container-id-4 div.sk-toggleable__content {max-height: 0;max-width: 0;overflow: hidden;text-align: left;background-color: #f0f8ff;}#sk-container-id-4 div.sk-toggleable__content pre {margin: 0.2em;color: black;border-radius: 0.25em;background-color: #f0f8ff;}#sk-container-id-4 input.sk-toggleable__control:checked~div.sk-toggleable__content {max-height: 200px;max-width: 100%;overflow: auto;}#sk-container-id-4 input.sk-toggleable__control:checked~label.sk-toggleable__label-arrow:before {content: \"▾\";}#sk-container-id-4 div.sk-estimator input.sk-toggleable__control:checked~label.sk-toggleable__label {background-color: #d4ebff;}#sk-container-id-4 div.sk-label input.sk-toggleable__control:checked~label.sk-toggleable__label {background-color: #d4ebff;}#sk-container-id-4 input.sk-hidden--visually {border: 0;clip: rect(1px 1px 1px 1px);clip: rect(1px, 1px, 1px, 1px);height: 1px;margin: -1px;overflow: hidden;padding: 0;position: absolute;width: 1px;}#sk-container-id-4 div.sk-estimator {font-family: monospace;background-color: #f0f8ff;border: 1px dotted black;border-radius: 0.25em;box-sizing: border-box;margin-bottom: 0.5em;}#sk-container-id-4 div.sk-estimator:hover {background-color: #d4ebff;}#sk-container-id-4 div.sk-parallel-item::after {content: \"\";width: 100%;border-bottom: 1px solid gray;flex-grow: 1;}#sk-container-id-4 div.sk-label:hover label.sk-toggleable__label {background-color: #d4ebff;}#sk-container-id-4 div.sk-serial::before {content: \"\";position: absolute;border-left: 1px solid gray;box-sizing: border-box;top: 0;bottom: 0;left: 50%;z-index: 0;}#sk-container-id-4 div.sk-serial {display: flex;flex-direction: column;align-items: center;background-color: white;padding-right: 0.2em;padding-left: 0.2em;position: relative;}#sk-container-id-4 div.sk-item {position: relative;z-index: 1;}#sk-container-id-4 div.sk-parallel {display: flex;align-items: stretch;justify-content: center;background-color: white;position: relative;}#sk-container-id-4 div.sk-item::before, #sk-container-id-4 div.sk-parallel-item::before {content: \"\";position: absolute;border-left: 1px solid gray;box-sizing: border-box;top: 0;bottom: 0;left: 50%;z-index: -1;}#sk-container-id-4 div.sk-parallel-item {display: flex;flex-direction: column;z-index: 1;position: relative;background-color: white;}#sk-container-id-4 div.sk-parallel-item:first-child::after {align-self: flex-end;width: 50%;}#sk-container-id-4 div.sk-parallel-item:last-child::after {align-self: flex-start;width: 50%;}#sk-container-id-4 div.sk-parallel-item:only-child::after {width: 0;}#sk-container-id-4 div.sk-dashed-wrapped {border: 1px dashed gray;margin: 0 0.4em 0.5em 0.4em;box-sizing: border-box;padding-bottom: 0.4em;background-color: white;}#sk-container-id-4 div.sk-label label {font-family: monospace;font-weight: bold;display: inline-block;line-height: 1.2em;}#sk-container-id-4 div.sk-label-container {text-align: center;}#sk-container-id-4 div.sk-container {/* jupyter's `normalize.less` sets `[hidden] { display: none; }` but bootstrap.min.css set `[hidden] { display: none !important; }` so we also need the `!important` here to be able to override the default hidden behavior on the sphinx rendered scikit-learn.org. See: https://github.com/scikit-learn/scikit-learn/issues/21755 */display: inline-block !important;position: relative;}#sk-container-id-4 div.sk-text-repr-fallback {display: none;}</style><div id=\"sk-container-id-4\" class=\"sk-top-container\"><div class=\"sk-text-repr-fallback\"><pre>XGBClassifier(base_score=None, booster=None, callbacks=None,\n",
       "              colsample_bylevel=None, colsample_bynode=None,\n",
       "              colsample_bytree=None, device=None, early_stopping_rounds=None,\n",
       "              enable_categorical=False, eval_metric=None, feature_types=None,\n",
       "              gamma=None, grow_policy=None, importance_type=None,\n",
       "              interaction_constraints=None, learning_rate=None, max_bin=None,\n",
       "              max_cat_threshold=None, max_cat_to_onehot=None,\n",
       "              max_delta_step=None, max_depth=None, max_leaves=None,\n",
       "              min_child_weight=None, missing=nan, monotone_constraints=None,\n",
       "              multi_strategy=None, n_estimators=None, n_jobs=None,\n",
       "              num_parallel_tree=None, objective=&#x27;multi:softprob&#x27;, ...)</pre><b>In a Jupyter environment, please rerun this cell to show the HTML representation or trust the notebook. <br />On GitHub, the HTML representation is unable to render, please try loading this page with nbviewer.org.</b></div><div class=\"sk-container\" hidden><div class=\"sk-item\"><div class=\"sk-estimator sk-toggleable\"><input class=\"sk-toggleable__control sk-hidden--visually\" id=\"sk-estimator-id-4\" type=\"checkbox\" checked><label for=\"sk-estimator-id-4\" class=\"sk-toggleable__label sk-toggleable__label-arrow\">XGBClassifier</label><div class=\"sk-toggleable__content\"><pre>XGBClassifier(base_score=None, booster=None, callbacks=None,\n",
       "              colsample_bylevel=None, colsample_bynode=None,\n",
       "              colsample_bytree=None, device=None, early_stopping_rounds=None,\n",
       "              enable_categorical=False, eval_metric=None, feature_types=None,\n",
       "              gamma=None, grow_policy=None, importance_type=None,\n",
       "              interaction_constraints=None, learning_rate=None, max_bin=None,\n",
       "              max_cat_threshold=None, max_cat_to_onehot=None,\n",
       "              max_delta_step=None, max_depth=None, max_leaves=None,\n",
       "              min_child_weight=None, missing=nan, monotone_constraints=None,\n",
       "              multi_strategy=None, n_estimators=None, n_jobs=None,\n",
       "              num_parallel_tree=None, objective=&#x27;multi:softprob&#x27;, ...)</pre></div></div></div></div></div>"
      ],
      "text/plain": [
       "XGBClassifier(base_score=None, booster=None, callbacks=None,\n",
       "              colsample_bylevel=None, colsample_bynode=None,\n",
       "              colsample_bytree=None, device=None, early_stopping_rounds=None,\n",
       "              enable_categorical=False, eval_metric=None, feature_types=None,\n",
       "              gamma=None, grow_policy=None, importance_type=None,\n",
       "              interaction_constraints=None, learning_rate=None, max_bin=None,\n",
       "              max_cat_threshold=None, max_cat_to_onehot=None,\n",
       "              max_delta_step=None, max_depth=None, max_leaves=None,\n",
       "              min_child_weight=None, missing=nan, monotone_constraints=None,\n",
       "              multi_strategy=None, n_estimators=None, n_jobs=None,\n",
       "              num_parallel_tree=None, objective='multi:softprob', ...)"
      ]
     },
     "execution_count": 122,
     "metadata": {},
     "output_type": "execute_result"
    }
   ],
   "source": [
    "model.fit(x_train,y_train)"
   ]
  },
  {
   "cell_type": "code",
   "execution_count": 123,
   "id": "6fa4fbac-20ae-4d55-9df1-07ecf4ebf610",
   "metadata": {},
   "outputs": [],
   "source": [
    "y_pred = model.predict(x_test)"
   ]
  },
  {
   "cell_type": "code",
   "execution_count": 124,
   "id": "b2d5ba34-06b1-40af-ab7c-7b202bf46193",
   "metadata": {},
   "outputs": [
    {
     "data": {
      "text/plain": [
       "0.7802786794276975"
      ]
     },
     "execution_count": 124,
     "metadata": {},
     "output_type": "execute_result"
    }
   ],
   "source": [
    "f1_score(y_test,y_pred, average=\"macro\")"
   ]
  },
  {
   "cell_type": "code",
   "execution_count": null,
   "id": "d15ba166-873f-4d5e-9579-1829fedc5c9d",
   "metadata": {},
   "outputs": [],
   "source": []
  },
  {
   "cell_type": "code",
   "execution_count": null,
   "id": "6675d2e6-04dc-4e3d-9c78-03189f707b55",
   "metadata": {},
   "outputs": [],
   "source": []
  },
  {
   "cell_type": "code",
   "execution_count": null,
   "id": "ddad3be7-c5b4-4cab-a204-52c77add4e75",
   "metadata": {},
   "outputs": [],
   "source": []
  },
  {
   "cell_type": "code",
   "execution_count": null,
   "id": "2e8e6f5c-336c-4b19-9b4e-2fdfa53e4558",
   "metadata": {},
   "outputs": [],
   "source": []
  },
  {
   "cell_type": "code",
   "execution_count": 125,
   "id": "0f096e71-7c56-4952-b00a-100bf2a977e3",
   "metadata": {},
   "outputs": [],
   "source": [
    "categoric_col_test = test.select_dtypes(include='object').columns # 카테고리형 컬럼\n",
    "numeric_col_test = test.select_dtypes(include='int64').columns # 수치형 컬럼"
   ]
  },
  {
   "cell_type": "code",
   "execution_count": 126,
   "id": "9981fba2-d4b6-4997-9e09-13006e8114dd",
   "metadata": {},
   "outputs": [],
   "source": [
    "#카테고리화 수치형으로 변환\n",
    "ordinal_encoder = OrdinalEncoder()\n",
    "test[categoric_col_test] = ordinal_encoder.fit_transform(test[categoric_col_test])"
   ]
  },
  {
   "cell_type": "code",
   "execution_count": 128,
   "id": "ca7ac053-d000-4116-8736-c18fbee25272",
   "metadata": {},
   "outputs": [
    {
     "data": {
      "text/html": [
       "<div>\n",
       "<style scoped>\n",
       "    .dataframe tbody tr th:only-of-type {\n",
       "        vertical-align: middle;\n",
       "    }\n",
       "\n",
       "    .dataframe tbody tr th {\n",
       "        vertical-align: top;\n",
       "    }\n",
       "\n",
       "    .dataframe thead th {\n",
       "        text-align: right;\n",
       "    }\n",
       "</style>\n",
       "<table border=\"1\" class=\"dataframe\">\n",
       "  <thead>\n",
       "    <tr style=\"text-align: right;\">\n",
       "      <th></th>\n",
       "      <th>ID</th>\n",
       "      <th>대출금액</th>\n",
       "      <th>대출기간</th>\n",
       "      <th>근로기간</th>\n",
       "      <th>주택소유상태</th>\n",
       "      <th>연간소득</th>\n",
       "      <th>부채_대비_소득_비율</th>\n",
       "      <th>총계좌수</th>\n",
       "      <th>대출목적</th>\n",
       "      <th>최근_2년간_연체_횟수</th>\n",
       "      <th>총상환원금</th>\n",
       "      <th>총상환이자</th>\n",
       "      <th>총연체금액</th>\n",
       "      <th>연체계좌수</th>\n",
       "    </tr>\n",
       "  </thead>\n",
       "  <tbody>\n",
       "    <tr>\n",
       "      <th>0</th>\n",
       "      <td>0.0</td>\n",
       "      <td>16800000</td>\n",
       "      <td>0.0</td>\n",
       "      <td>11.0</td>\n",
       "      <td>0.0</td>\n",
       "      <td>132000000</td>\n",
       "      <td>19.64</td>\n",
       "      <td>12</td>\n",
       "      <td>11.0</td>\n",
       "      <td>0</td>\n",
       "      <td>394692</td>\n",
       "      <td>146604.0</td>\n",
       "      <td>0.0</td>\n",
       "      <td>0.0</td>\n",
       "    </tr>\n",
       "    <tr>\n",
       "      <th>1</th>\n",
       "      <td>1.0</td>\n",
       "      <td>8400000</td>\n",
       "      <td>0.0</td>\n",
       "      <td>8.0</td>\n",
       "      <td>2.0</td>\n",
       "      <td>89971200</td>\n",
       "      <td>15.84</td>\n",
       "      <td>25</td>\n",
       "      <td>2.0</td>\n",
       "      <td>0</td>\n",
       "      <td>0</td>\n",
       "      <td>0.0</td>\n",
       "      <td>0.0</td>\n",
       "      <td>0.0</td>\n",
       "    </tr>\n",
       "    <tr>\n",
       "      <th>2</th>\n",
       "      <td>2.0</td>\n",
       "      <td>17280000</td>\n",
       "      <td>0.0</td>\n",
       "      <td>9.0</td>\n",
       "      <td>2.0</td>\n",
       "      <td>150000000</td>\n",
       "      <td>8.41</td>\n",
       "      <td>20</td>\n",
       "      <td>4.0</td>\n",
       "      <td>0</td>\n",
       "      <td>1786980</td>\n",
       "      <td>281820.0</td>\n",
       "      <td>0.0</td>\n",
       "      <td>0.0</td>\n",
       "    </tr>\n",
       "    <tr>\n",
       "      <th>3</th>\n",
       "      <td>3.0</td>\n",
       "      <td>14400000</td>\n",
       "      <td>0.0</td>\n",
       "      <td>8.0</td>\n",
       "      <td>0.0</td>\n",
       "      <td>66000000</td>\n",
       "      <td>13.72</td>\n",
       "      <td>30</td>\n",
       "      <td>4.0</td>\n",
       "      <td>1</td>\n",
       "      <td>669024</td>\n",
       "      <td>281724.0</td>\n",
       "      <td>0.0</td>\n",
       "      <td>0.0</td>\n",
       "    </tr>\n",
       "    <tr>\n",
       "      <th>4</th>\n",
       "      <td>4.0</td>\n",
       "      <td>27600000</td>\n",
       "      <td>0.0</td>\n",
       "      <td>8.0</td>\n",
       "      <td>2.0</td>\n",
       "      <td>55200000</td>\n",
       "      <td>30.50</td>\n",
       "      <td>12</td>\n",
       "      <td>4.0</td>\n",
       "      <td>0</td>\n",
       "      <td>1250052</td>\n",
       "      <td>614844.0</td>\n",
       "      <td>0.0</td>\n",
       "      <td>0.0</td>\n",
       "    </tr>\n",
       "    <tr>\n",
       "      <th>...</th>\n",
       "      <td>...</td>\n",
       "      <td>...</td>\n",
       "      <td>...</td>\n",
       "      <td>...</td>\n",
       "      <td>...</td>\n",
       "      <td>...</td>\n",
       "      <td>...</td>\n",
       "      <td>...</td>\n",
       "      <td>...</td>\n",
       "      <td>...</td>\n",
       "      <td>...</td>\n",
       "      <td>...</td>\n",
       "      <td>...</td>\n",
       "      <td>...</td>\n",
       "    </tr>\n",
       "    <tr>\n",
       "      <th>64192</th>\n",
       "      <td>64192.0</td>\n",
       "      <td>30000000</td>\n",
       "      <td>0.0</td>\n",
       "      <td>6.0</td>\n",
       "      <td>0.0</td>\n",
       "      <td>78000000</td>\n",
       "      <td>22.08</td>\n",
       "      <td>27</td>\n",
       "      <td>2.0</td>\n",
       "      <td>2</td>\n",
       "      <td>1307532</td>\n",
       "      <td>763380.0</td>\n",
       "      <td>0.0</td>\n",
       "      <td>0.0</td>\n",
       "    </tr>\n",
       "    <tr>\n",
       "      <th>64193</th>\n",
       "      <td>64193.0</td>\n",
       "      <td>30000000</td>\n",
       "      <td>1.0</td>\n",
       "      <td>2.0</td>\n",
       "      <td>0.0</td>\n",
       "      <td>109200000</td>\n",
       "      <td>12.06</td>\n",
       "      <td>26</td>\n",
       "      <td>2.0</td>\n",
       "      <td>0</td>\n",
       "      <td>960612</td>\n",
       "      <td>1245252.0</td>\n",
       "      <td>0.0</td>\n",
       "      <td>0.0</td>\n",
       "    </tr>\n",
       "    <tr>\n",
       "      <th>64194</th>\n",
       "      <td>64194.0</td>\n",
       "      <td>6120000</td>\n",
       "      <td>0.0</td>\n",
       "      <td>2.0</td>\n",
       "      <td>2.0</td>\n",
       "      <td>39600000</td>\n",
       "      <td>28.80</td>\n",
       "      <td>33</td>\n",
       "      <td>2.0</td>\n",
       "      <td>0</td>\n",
       "      <td>131520</td>\n",
       "      <td>80880.0</td>\n",
       "      <td>0.0</td>\n",
       "      <td>0.0</td>\n",
       "    </tr>\n",
       "    <tr>\n",
       "      <th>64195</th>\n",
       "      <td>64195.0</td>\n",
       "      <td>11520000</td>\n",
       "      <td>0.0</td>\n",
       "      <td>2.0</td>\n",
       "      <td>0.0</td>\n",
       "      <td>66000000</td>\n",
       "      <td>25.44</td>\n",
       "      <td>41</td>\n",
       "      <td>2.0</td>\n",
       "      <td>1</td>\n",
       "      <td>1339536</td>\n",
       "      <td>601872.0</td>\n",
       "      <td>0.0</td>\n",
       "      <td>0.0</td>\n",
       "    </tr>\n",
       "    <tr>\n",
       "      <th>64196</th>\n",
       "      <td>64196.0</td>\n",
       "      <td>6000000</td>\n",
       "      <td>0.0</td>\n",
       "      <td>12.0</td>\n",
       "      <td>2.0</td>\n",
       "      <td>180000000</td>\n",
       "      <td>9.07</td>\n",
       "      <td>10</td>\n",
       "      <td>2.0</td>\n",
       "      <td>0</td>\n",
       "      <td>308880</td>\n",
       "      <td>48960.0</td>\n",
       "      <td>0.0</td>\n",
       "      <td>0.0</td>\n",
       "    </tr>\n",
       "  </tbody>\n",
       "</table>\n",
       "<p>64197 rows × 14 columns</p>\n",
       "</div>"
      ],
      "text/plain": [
       "            ID      대출금액  대출기간  근로기간  주택소유상태       연간소득  부채_대비_소득_비율  총계좌수  \\\n",
       "0          0.0  16800000   0.0  11.0     0.0  132000000        19.64    12   \n",
       "1          1.0   8400000   0.0   8.0     2.0   89971200        15.84    25   \n",
       "2          2.0  17280000   0.0   9.0     2.0  150000000         8.41    20   \n",
       "3          3.0  14400000   0.0   8.0     0.0   66000000        13.72    30   \n",
       "4          4.0  27600000   0.0   8.0     2.0   55200000        30.50    12   \n",
       "...        ...       ...   ...   ...     ...        ...          ...   ...   \n",
       "64192  64192.0  30000000   0.0   6.0     0.0   78000000        22.08    27   \n",
       "64193  64193.0  30000000   1.0   2.0     0.0  109200000        12.06    26   \n",
       "64194  64194.0   6120000   0.0   2.0     2.0   39600000        28.80    33   \n",
       "64195  64195.0  11520000   0.0   2.0     0.0   66000000        25.44    41   \n",
       "64196  64196.0   6000000   0.0  12.0     2.0  180000000         9.07    10   \n",
       "\n",
       "       대출목적  최근_2년간_연체_횟수    총상환원금      총상환이자  총연체금액  연체계좌수  \n",
       "0      11.0             0   394692   146604.0    0.0    0.0  \n",
       "1       2.0             0        0        0.0    0.0    0.0  \n",
       "2       4.0             0  1786980   281820.0    0.0    0.0  \n",
       "3       4.0             1   669024   281724.0    0.0    0.0  \n",
       "4       4.0             0  1250052   614844.0    0.0    0.0  \n",
       "...     ...           ...      ...        ...    ...    ...  \n",
       "64192   2.0             2  1307532   763380.0    0.0    0.0  \n",
       "64193   2.0             0   960612  1245252.0    0.0    0.0  \n",
       "64194   2.0             0   131520    80880.0    0.0    0.0  \n",
       "64195   2.0             1  1339536   601872.0    0.0    0.0  \n",
       "64196   2.0             0   308880    48960.0    0.0    0.0  \n",
       "\n",
       "[64197 rows x 14 columns]"
      ]
     },
     "execution_count": 128,
     "metadata": {},
     "output_type": "execute_result"
    }
   ],
   "source": [
    "test"
   ]
  },
  {
   "cell_type": "code",
   "execution_count": null,
   "id": "a11977d9-8a4f-4432-8e11-4f392aeee5c8",
   "metadata": {},
   "outputs": [],
   "source": []
  },
  {
   "cell_type": "code",
   "execution_count": null,
   "id": "b5e1c757-0b7a-48bb-bc2b-be49f84eccb2",
   "metadata": {},
   "outputs": [],
   "source": []
  },
  {
   "cell_type": "code",
   "execution_count": 129,
   "id": "b66c2e7f-8bee-40b1-b6dd-1ee3ba4e8fb4",
   "metadata": {},
   "outputs": [],
   "source": [
    "real = model.predict(test)"
   ]
  },
  {
   "cell_type": "code",
   "execution_count": 131,
   "id": "fbf9d055-7e80-4903-9c15-cb120b2c5eb4",
   "metadata": {},
   "outputs": [
    {
     "data": {
      "text/plain": [
       "array([1, 0, 0, ..., 4, 2, 0])"
      ]
     },
     "execution_count": 131,
     "metadata": {},
     "output_type": "execute_result"
    }
   ],
   "source": [
    "real"
   ]
  },
  {
   "cell_type": "code",
   "execution_count": 132,
   "id": "d425bce9-849d-4ac3-a296-cb01ebdba4ef",
   "metadata": {},
   "outputs": [],
   "source": []
  },
  {
   "cell_type": "code",
   "execution_count": 136,
   "id": "83e65aa4-e65c-4734-a72e-6c7273b5bee4",
   "metadata": {},
   "outputs": [],
   "source": [
    "real = np.where(real == 0, 'A',\n",
    "                  np.where(real == 1, 'B',\n",
    "                  np.where(real == 2, 'C',\n",
    "                  np.where(real == 3, 'D',\n",
    "                  np.where(real == 4, 'E', 'F')))))"
   ]
  },
  {
   "cell_type": "code",
   "execution_count": 139,
   "id": "6eed1d6e-88f9-47f9-b3b3-fccc2ed86b45",
   "metadata": {},
   "outputs": [],
   "source": [
    "submit['대출등급'] = real"
   ]
  },
  {
   "cell_type": "code",
   "execution_count": 140,
   "id": "bbd81f15-1ca3-479c-8952-8428a0330937",
   "metadata": {},
   "outputs": [],
   "source": [
    "submit.to_csv(\"submit.csv\",index = False)"
   ]
  },
  {
   "cell_type": "code",
   "execution_count": 67,
   "id": "931b3ef3-187e-4a4c-9f3c-cd0ee3157fb8",
   "metadata": {},
   "outputs": [],
   "source": [
    "\n",
    "with open('model.pkl', 'wb') as file:\n",
    "    pickle.dump(model, file)"
   ]
  },
  {
   "cell_type": "code",
   "execution_count": null,
   "id": "16984afa-0f47-49f9-a0c8-dd280e21033f",
   "metadata": {},
   "outputs": [],
   "source": []
  }
 ],
 "metadata": {
  "kernelspec": {
   "display_name": "Python 3 (ipykernel)",
   "language": "python",
   "name": "python3"
  },
  "language_info": {
   "codemirror_mode": {
    "name": "ipython",
    "version": 3
   },
   "file_extension": ".py",
   "mimetype": "text/x-python",
   "name": "python",
   "nbconvert_exporter": "python",
   "pygments_lexer": "ipython3",
   "version": "3.9.7"
  }
 },
 "nbformat": 4,
 "nbformat_minor": 5
}
