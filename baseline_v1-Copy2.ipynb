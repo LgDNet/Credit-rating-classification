{
 "cells": [
  {
   "cell_type": "markdown",
   "id": "40aa3fba-31b6-47bf-9a09-7a205aa648c2",
   "metadata": {},
   "source": [
    "# library"
   ]
  },
  {
   "cell_type": "code",
   "execution_count": 6,
   "id": "93a1a3d2-5d74-4dba-9a39-a48646c5d627",
   "metadata": {},
   "outputs": [],
   "source": [
    "import numpy as np\n",
    "import pickle\n",
    "import pandas as pd\n",
    "from sklearn.preprocessing import LabelEncoder\n",
    "from sklearn.model_selection import train_test_split\n",
    "from sklearn.metrics import f1_score\n",
    "from sklearn.preprocessing import MinMaxScaler\n",
    "\n",
    "from data.load import Data\n",
    "from src.models.classification.models import Model"
   ]
  },
  {
   "cell_type": "markdown",
   "id": "cc23bd88",
   "metadata": {},
   "source": [
    "### Utils"
   ]
  },
  {
   "cell_type": "code",
   "execution_count": 118,
   "id": "97282bd6",
   "metadata": {},
   "outputs": [],
   "source": [
    "def get_max_score_model_instance(model_info_list):\n",
    "    max_score = model_info_list[0].get(\"model_score\", 0)\n",
    "    max_score_model_instance = model_info_list[0].get(\"model_instance\")\n",
    "    max_score_model_name = model_info_list[0].get(\"model_name\")\n",
    "\n",
    "    for model_info in model_info_list[1:]:\n",
    "        model_score = model_info.get(\"model_score\", 0)\n",
    "        model_instance = model_info.get(\"model_instance\")\n",
    "        model_name = model_info.get(\"model_name\")\n",
    "        \n",
    "        if model_score > max_score:\n",
    "            max_score = model_score\n",
    "            max_score_model_instance = model_instance\n",
    "            max_score_model_name = model_name\n",
    "        \n",
    "    print(f\"MAX SCORE model instance: {max_score_model_name} TEST SCORE: {max_score}\")\n",
    "    return max_score_model_instance"
   ]
  },
  {
   "cell_type": "code",
   "execution_count": 179,
   "id": "5ed6d4b3-994e-42d3-84c5-446b2d0e32be",
   "metadata": {},
   "outputs": [],
   "source": [
    "class ModelProcess:\n",
    "    def __init__(self):\n",
    "        \"\"\" 생성자 \"\"\"\n",
    "        self._train = Data.train\n",
    "        self._test = Data.test\n",
    "        self._submit = Data.submission\n",
    "\n",
    "        self.result = None\n",
    "    \n",
    "    def preprocessing(self, df):\n",
    "        \"\"\" 전처리기 \"\"\"\n",
    "        #init\n",
    "        df = df.drop(columns=['ID','근로기간', '연체계좌수'])\n",
    "        \n",
    "        #JW\n",
    "        \"\"\"연체관련\"\"\"\n",
    "        # 최근_2년간_연체_횟수 -> 최근_2년간_연체 유무\n",
    "        is_overdue = df[df['최근_2년간_연체_횟수']!=0.0].index\n",
    "        df.loc[is_overdue,'최근_2년간_연체_횟수']=1.0\n",
    "        df['최근_2년간_연체']=df['최근_2년간_연체_횟수']\n",
    "        df.drop('최근_2년간_연체_횟수', axis=1, inplace=True)\n",
    "\n",
    "        \"\"\" 부채관련 \"\"\"\n",
    "        # 월원금상환금\n",
    "        df['대출기간'] = df['대출기간'].astype(str).str[:3].astype(int)\n",
    "        df['월원금상환금'] = round(df['대출금액']/df['대출기간'])\n",
    "        # 상환개월\n",
    "        df['상환개월'] = np.trunc(df['총상환원금']/df['월원금상환금'])\n",
    "        \n",
    "        df.drop(['월원금상환금'], axis=1, inplace=True)\n",
    "\n",
    "        # df['대출기간'] = df['대출기간'].map({36:1, 60: 1.6})\n",
    "        # df['근로기간'] = df['근로기간'].map({'10+ years':10,'10+years':10, '9 years':9, '8 years':8, '7 years':7, '6 years':6, \n",
    "        #                              '5 years':5, '4 years':4, '3 years':3, '3':3, '2 years':2, \n",
    "        #                              '1 years':1, '1 year':1, '<1 year ':1, '< 1 year':1})\n",
    "\n",
    "        df['연간소득'] = pd.qcut(df['연간소득'], q=10, labels = False)\n",
    "        df[\"총상환금\"] = df[\"총상환원금\"] + df[\"총상환이자\"]\n",
    "        df[\"남은대출금액\"] = df[\"대출금액\"] - df[\"총상환금\"]\n",
    "        df = df.drop(columns=['총상환금'])\n",
    "        \n",
    "        # label 범주형 수치형으로 변환\n",
    "        categorical_features = ['대출목적','주택소유상태']\n",
    "        for i in categorical_features:\n",
    "            le = LabelEncoder()\n",
    "            df[i] = le.fit_transform(df[i])\n",
    "        return df\n",
    "        \n",
    "    def train(self, _model):\n",
    "        \"\"\" model 훈련 \"\"\"\n",
    "        # train 전처리\n",
    "        print(f\"MODE: {str(_model)}\")\n",
    "        self._train = self.preprocessing(self._train)\n",
    "        \n",
    "        # train 분리\n",
    "        X = self._train.drop(['대출등급'],axis = 1)\n",
    "        Y = self._train['대출등급']\n",
    "        \n",
    "        self.label_encoder = LabelEncoder()\n",
    "        Y = self.label_encoder.fit_transform(Y)\n",
    "        \n",
    "        x_train, x_test, y_train, y_test = train_test_split(X,Y, test_size=0.1 ,random_state=42,stratify=Y)\n",
    "        \n",
    "        # model 훈련 및 평가\n",
    "        _model.fit(x_train,y_train)\n",
    "        score = 0.5\n",
    "        \n",
    "        y_pred = _model.predict(x_train)\n",
    "        score = f1_score(y_train,y_pred, average=\"macro\")\n",
    "        print(f\"[Train Score]: {score:.2f}\", end = \" \")\n",
    "\n",
    "        y_pred = _model.predict(x_test)\n",
    "        score = f1_score(y_test,y_pred, average=\"macro\")\n",
    "        print(f\"[Test Score]: {score:.5f}\")\n",
    "        \n",
    "        model_name = str(_model).split(\"(\")[0]\n",
    "        #전체 학습 시\n",
    "        # _model.fit(X,Y)\n",
    "        # score = 0.5\n",
    "        return {\n",
    "            \"model_name\": model_name,\n",
    "            \"model_instance\": _model,\n",
    "            \"model_score\": round(score, 2)\n",
    "        }\n",
    "        \n",
    "    def test(self, _model):\n",
    "        \"\"\" model 추론 \"\"\"\n",
    "        # test 전처리\n",
    "        self._test = self.preprocessing(Data.test) \n",
    "        # self._test = self.scaler(self._test) #scaler\n",
    "        \n",
    "        # model 예측\n",
    "        real = _model.predict(self._test)\n",
    "        pred = self.label_encoder.inverse_transform(real)\n",
    "        self.result = pred\n",
    "        # self.result = np.where(real == 0, 'A', \n",
    "        #               np.where(real == 1, 'B',\n",
    "        #               np.where(real == 2, 'C',\n",
    "        #               np.where(real == 3, 'D',\n",
    "        #               np.where(real == 4, 'E', 'F')))))\n",
    "        return _model\n",
    "        \n",
    "    def submit(self, _model):\n",
    "        \"\"\" 제출 \"\"\"\n",
    "        # csv 저장\n",
    "        self._submit['대출등급'] = self.result\n",
    "        self._submit.to_csv(\"submit_3.csv\",index = False)\n",
    "        \n",
    "        # 모델 저장\n",
    "        # model_name = str(_model).split(\"(\")[0]\n",
    "        with open('model.pkl', 'wb') as file:\n",
    "            pickle.dump(_model, file)\n",
    "    \n",
    "    def auto_test(self):\n",
    "        model_set = Model()\n",
    "        models = model_set.get_model_instances()\n",
    "\n",
    "        model_info_list = list(map(self.train, models))\n",
    "        model_instance = get_max_score_model_instance(model_info_list)\n",
    "\n",
    "        self.test(model_instance)\n",
    "        self.submit(model_instance)\n",
    "            "
   ]
  },
  {
   "cell_type": "code",
   "execution_count": 180,
   "id": "1579a001-7d97-4bdd-9657-9ba46352d19a",
   "metadata": {},
   "outputs": [],
   "source": [
    "model_process = ModelProcess()"
   ]
  },
  {
   "cell_type": "markdown",
   "id": "0628207f",
   "metadata": {},
   "source": [
    "### 전체 모델을 대상 학습 및 테스트 평가"
   ]
  },
  {
   "cell_type": "code",
   "execution_count": 181,
   "id": "7b2b559f",
   "metadata": {},
   "outputs": [],
   "source": [
    "# model_process.auto_test()"
   ]
  },
  {
   "cell_type": "markdown",
   "id": "5f3d33ef",
   "metadata": {},
   "source": [
    "### 개별 모델 학습"
   ]
  },
  {
   "cell_type": "code",
   "execution_count": 182,
   "id": "b5525ddb-5ab8-49db-9a7c-559a97ce721b",
   "metadata": {},
   "outputs": [
    {
     "name": "stdout",
     "output_type": "stream",
     "text": [
      "필요한 모듈이 설치되지 않았습니다: No module named 'catboost'\n",
      "필요한 모듈이 설치되지 않았습니다: No module named 'lightgbm'\n"
     ]
    }
   ],
   "source": [
    "# model1 = MLPClassifier(hidden_layer_sizes=(50,50), max_iter=1000, random_state=1)\n",
    "model_set = Model()\n",
    "models = model_set.get_model_instances()"
   ]
  },
  {
   "cell_type": "code",
   "execution_count": 183,
   "id": "7ba2e834-7de6-4850-8a32-c1fecd1df27d",
   "metadata": {},
   "outputs": [],
   "source": [
    "# model_li = list(map(model_process.train, models))"
   ]
  },
  {
   "cell_type": "code",
   "execution_count": 184,
   "id": "0db7533b-0ab2-4038-9e52-0ce8f685aea5",
   "metadata": {},
   "outputs": [],
   "source": [
    "# 데이터 로드\n",
    "with open('./data/best_params.pkl', 'rb') as f:\n",
    "\tdata = pickle.load(f)"
   ]
  },
  {
   "cell_type": "code",
   "execution_count": 185,
   "id": "c9381143-667d-490a-9711-cda2e8f4b006",
   "metadata": {},
   "outputs": [],
   "source": [
    "# data"
   ]
  },
  {
   "cell_type": "code",
   "execution_count": 186,
   "id": "5f37bac3-6c72-4671-ba0f-134f7d4dffa3",
   "metadata": {},
   "outputs": [
    {
     "name": "stdout",
     "output_type": "stream",
     "text": [
      "MODE: XGBClassifier(base_score=None, booster=None, callbacks=None,\n",
      "              colsample_bylevel=None, colsample_bynode=None,\n",
      "              colsample_bytree=0.8734150979529018, device=None,\n",
      "              early_stopping_rounds=None, enable_categorical=False,\n",
      "              eval_metric=None, feature_types=None, gamma=0.017600210882064204,\n",
      "              grow_policy=None, importance_type=None,\n",
      "              interaction_constraints=None, learning_rate=0.0947263260073529,\n",
      "              max_bin=None, max_cat_threshold=None, max_cat_to_onehot=None,\n",
      "              max_delta_step=None, max_depth=10, max_leaves=None,\n",
      "              min_child_weight=1, missing=nan, monotone_constraints=None,\n",
      "              multi_strategy=None, n_estimators=373, n_jobs=None,\n",
      "              num_parallel_tree=None, random_state=42, ...)\n",
      "[Train Score]: 1.00 [Test Score]: 0.81597\n"
     ]
    }
   ],
   "source": [
    "_model = model_process.train(models[-4].set_params(**data))"
   ]
  },
  {
   "cell_type": "code",
   "execution_count": null,
   "id": "71045ee1-73c4-4b9c-a501-426b139b41b2",
   "metadata": {},
   "outputs": [],
   "source": []
  },
  {
   "cell_type": "code",
   "execution_count": null,
   "id": "705081b1-e2aa-4dae-9efb-bd99928597e8",
   "metadata": {},
   "outputs": [],
   "source": []
  },
  {
   "cell_type": "code",
   "execution_count": null,
   "id": "bf69b933-2ada-41ef-9eec-e221e0936eed",
   "metadata": {},
   "outputs": [],
   "source": []
  },
  {
   "cell_type": "code",
   "execution_count": null,
   "id": "cbb36289-2fec-49e3-abb1-1a2cf1ca2f6f",
   "metadata": {},
   "outputs": [],
   "source": []
  },
  {
   "cell_type": "code",
   "execution_count": 116,
   "id": "58a4b355",
   "metadata": {},
   "outputs": [
    {
     "data": {
      "text/html": [
       "<style>#sk-container-id-3 {color: black;}#sk-container-id-3 pre{padding: 0;}#sk-container-id-3 div.sk-toggleable {background-color: white;}#sk-container-id-3 label.sk-toggleable__label {cursor: pointer;display: block;width: 100%;margin-bottom: 0;padding: 0.3em;box-sizing: border-box;text-align: center;}#sk-container-id-3 label.sk-toggleable__label-arrow:before {content: \"▸\";float: left;margin-right: 0.25em;color: #696969;}#sk-container-id-3 label.sk-toggleable__label-arrow:hover:before {color: black;}#sk-container-id-3 div.sk-estimator:hover label.sk-toggleable__label-arrow:before {color: black;}#sk-container-id-3 div.sk-toggleable__content {max-height: 0;max-width: 0;overflow: hidden;text-align: left;background-color: #f0f8ff;}#sk-container-id-3 div.sk-toggleable__content pre {margin: 0.2em;color: black;border-radius: 0.25em;background-color: #f0f8ff;}#sk-container-id-3 input.sk-toggleable__control:checked~div.sk-toggleable__content {max-height: 200px;max-width: 100%;overflow: auto;}#sk-container-id-3 input.sk-toggleable__control:checked~label.sk-toggleable__label-arrow:before {content: \"▾\";}#sk-container-id-3 div.sk-estimator input.sk-toggleable__control:checked~label.sk-toggleable__label {background-color: #d4ebff;}#sk-container-id-3 div.sk-label input.sk-toggleable__control:checked~label.sk-toggleable__label {background-color: #d4ebff;}#sk-container-id-3 input.sk-hidden--visually {border: 0;clip: rect(1px 1px 1px 1px);clip: rect(1px, 1px, 1px, 1px);height: 1px;margin: -1px;overflow: hidden;padding: 0;position: absolute;width: 1px;}#sk-container-id-3 div.sk-estimator {font-family: monospace;background-color: #f0f8ff;border: 1px dotted black;border-radius: 0.25em;box-sizing: border-box;margin-bottom: 0.5em;}#sk-container-id-3 div.sk-estimator:hover {background-color: #d4ebff;}#sk-container-id-3 div.sk-parallel-item::after {content: \"\";width: 100%;border-bottom: 1px solid gray;flex-grow: 1;}#sk-container-id-3 div.sk-label:hover label.sk-toggleable__label {background-color: #d4ebff;}#sk-container-id-3 div.sk-serial::before {content: \"\";position: absolute;border-left: 1px solid gray;box-sizing: border-box;top: 0;bottom: 0;left: 50%;z-index: 0;}#sk-container-id-3 div.sk-serial {display: flex;flex-direction: column;align-items: center;background-color: white;padding-right: 0.2em;padding-left: 0.2em;position: relative;}#sk-container-id-3 div.sk-item {position: relative;z-index: 1;}#sk-container-id-3 div.sk-parallel {display: flex;align-items: stretch;justify-content: center;background-color: white;position: relative;}#sk-container-id-3 div.sk-item::before, #sk-container-id-3 div.sk-parallel-item::before {content: \"\";position: absolute;border-left: 1px solid gray;box-sizing: border-box;top: 0;bottom: 0;left: 50%;z-index: -1;}#sk-container-id-3 div.sk-parallel-item {display: flex;flex-direction: column;z-index: 1;position: relative;background-color: white;}#sk-container-id-3 div.sk-parallel-item:first-child::after {align-self: flex-end;width: 50%;}#sk-container-id-3 div.sk-parallel-item:last-child::after {align-self: flex-start;width: 50%;}#sk-container-id-3 div.sk-parallel-item:only-child::after {width: 0;}#sk-container-id-3 div.sk-dashed-wrapped {border: 1px dashed gray;margin: 0 0.4em 0.5em 0.4em;box-sizing: border-box;padding-bottom: 0.4em;background-color: white;}#sk-container-id-3 div.sk-label label {font-family: monospace;font-weight: bold;display: inline-block;line-height: 1.2em;}#sk-container-id-3 div.sk-label-container {text-align: center;}#sk-container-id-3 div.sk-container {/* jupyter's `normalize.less` sets `[hidden] { display: none; }` but bootstrap.min.css set `[hidden] { display: none !important; }` so we also need the `!important` here to be able to override the default hidden behavior on the sphinx rendered scikit-learn.org. See: https://github.com/scikit-learn/scikit-learn/issues/21755 */display: inline-block !important;position: relative;}#sk-container-id-3 div.sk-text-repr-fallback {display: none;}</style><div id=\"sk-container-id-3\" class=\"sk-top-container\"><div class=\"sk-text-repr-fallback\"><pre>XGBClassifier(base_score=None, booster=None, callbacks=None,\n",
       "              colsample_bylevel=None, colsample_bynode=None,\n",
       "              colsample_bytree=0.8734150979529018, device=None,\n",
       "              early_stopping_rounds=None, enable_categorical=False,\n",
       "              eval_metric=None, feature_types=None, gamma=0.017600210882064204,\n",
       "              grow_policy=None, importance_type=None,\n",
       "              interaction_constraints=None, learning_rate=0.0947263260073529,\n",
       "              max_bin=None, max_cat_threshold=None, max_cat_to_onehot=None,\n",
       "              max_delta_step=None, max_depth=10, max_leaves=None,\n",
       "              min_child_weight=1, missing=nan, monotone_constraints=None,\n",
       "              multi_strategy=None, n_estimators=373, n_jobs=None,\n",
       "              num_parallel_tree=None, objective=&#x27;multi:softprob&#x27;, ...)</pre><b>In a Jupyter environment, please rerun this cell to show the HTML representation or trust the notebook. <br />On GitHub, the HTML representation is unable to render, please try loading this page with nbviewer.org.</b></div><div class=\"sk-container\" hidden><div class=\"sk-item\"><div class=\"sk-estimator sk-toggleable\"><input class=\"sk-toggleable__control sk-hidden--visually\" id=\"sk-estimator-id-3\" type=\"checkbox\" checked><label for=\"sk-estimator-id-3\" class=\"sk-toggleable__label sk-toggleable__label-arrow\">XGBClassifier</label><div class=\"sk-toggleable__content\"><pre>XGBClassifier(base_score=None, booster=None, callbacks=None,\n",
       "              colsample_bylevel=None, colsample_bynode=None,\n",
       "              colsample_bytree=0.8734150979529018, device=None,\n",
       "              early_stopping_rounds=None, enable_categorical=False,\n",
       "              eval_metric=None, feature_types=None, gamma=0.017600210882064204,\n",
       "              grow_policy=None, importance_type=None,\n",
       "              interaction_constraints=None, learning_rate=0.0947263260073529,\n",
       "              max_bin=None, max_cat_threshold=None, max_cat_to_onehot=None,\n",
       "              max_delta_step=None, max_depth=10, max_leaves=None,\n",
       "              min_child_weight=1, missing=nan, monotone_constraints=None,\n",
       "              multi_strategy=None, n_estimators=373, n_jobs=None,\n",
       "              num_parallel_tree=None, objective=&#x27;multi:softprob&#x27;, ...)</pre></div></div></div></div></div>"
      ],
      "text/plain": [
       "XGBClassifier(base_score=None, booster=None, callbacks=None,\n",
       "              colsample_bylevel=None, colsample_bynode=None,\n",
       "              colsample_bytree=0.8734150979529018, device=None,\n",
       "              early_stopping_rounds=None, enable_categorical=False,\n",
       "              eval_metric=None, feature_types=None, gamma=0.017600210882064204,\n",
       "              grow_policy=None, importance_type=None,\n",
       "              interaction_constraints=None, learning_rate=0.0947263260073529,\n",
       "              max_bin=None, max_cat_threshold=None, max_cat_to_onehot=None,\n",
       "              max_delta_step=None, max_depth=10, max_leaves=None,\n",
       "              min_child_weight=1, missing=nan, monotone_constraints=None,\n",
       "              multi_strategy=None, n_estimators=373, n_jobs=None,\n",
       "              num_parallel_tree=None, objective='multi:softprob', ...)"
      ]
     },
     "execution_count": 116,
     "metadata": {},
     "output_type": "execute_result"
    }
   ],
   "source": [
    "model_process.test(_model.get(\"model_instance\"))"
   ]
  },
  {
   "cell_type": "code",
   "execution_count": 117,
   "id": "54bf54a0",
   "metadata": {},
   "outputs": [],
   "source": [
    "model_process.submit(_model.get(\"model_instance\"))"
   ]
  },
  {
   "cell_type": "code",
   "execution_count": null,
   "id": "43413816",
   "metadata": {},
   "outputs": [],
   "source": []
  },
  {
   "cell_type": "code",
   "execution_count": null,
   "id": "e56769a9-5b6f-4509-aa40-1034f3192740",
   "metadata": {},
   "outputs": [],
   "source": []
  }
 ],
 "metadata": {
  "kernelspec": {
   "display_name": "Python 3 (ipykernel)",
   "language": "python",
   "name": "python3"
  },
  "language_info": {
   "codemirror_mode": {
    "name": "ipython",
    "version": 3
   },
   "file_extension": ".py",
   "mimetype": "text/x-python",
   "name": "python",
   "nbconvert_exporter": "python",
   "pygments_lexer": "ipython3",
   "version": "3.10.4"
  }
 },
 "nbformat": 4,
 "nbformat_minor": 5
}
