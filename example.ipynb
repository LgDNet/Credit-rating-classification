{
 "cells": [
  {
   "cell_type": "code",
   "execution_count": 3,
   "metadata": {},
   "outputs": [],
   "source": [
    "from src.models.classification.models import Model"
   ]
  },
  {
   "cell_type": "code",
   "execution_count": 22,
   "metadata": {},
   "outputs": [],
   "source": [
    "from src.base import BasePiepline\n",
    "from src.utils.data_preprocessing import DataPreprocessing\n",
    "\n",
    "\n",
    "class AdvancePreprocessing(DataPreprocessing):\n",
    "    def __init__(self, df):\n",
    "        super().__init__(df)\n",
    "    \n",
    "    def set_up(self):\n",
    "        print(f\"{type(self).__name__}: set_up method 실행\")\n",
    "        super().set_up()  # self.df = self.df.drop(columns=['ID', '근로기간'])\n",
    "    \n",
    "    def __call__(self):\n",
    "        print(\"AdvancePreprocessing __call__ method is called.\")\n",
    "        return super().__call__()\n",
    "\n",
    "    def step_four_add_another_function(self):\n",
    "        print(\"전처리 함수 추가함\")\n",
    "\n",
    "\n",
    "class ModelProcess(BasePiepline):\n",
    "    def preprocessing(self, df):\n",
    "        # NOTE: 전처리 함수 추가 원할시 상속 받아서 적용 후 상속 받은 클래스 호출\n",
    "        # preprocessing = DataPreprocessing(df)\n",
    "        preprocessing = AdvancePreprocessing(df)\n",
    "\n",
    "        return preprocessing()"
   ]
  },
  {
   "cell_type": "code",
   "execution_count": 23,
   "metadata": {},
   "outputs": [],
   "source": [
    "model = Model()\n",
    "model_process = ModelProcess()"
   ]
  },
  {
   "cell_type": "code",
   "execution_count": 24,
   "metadata": {},
   "outputs": [],
   "source": [
    "rf_model = model.random_forest"
   ]
  },
  {
   "cell_type": "code",
   "execution_count": 25,
   "metadata": {},
   "outputs": [
    {
     "name": "stdout",
     "output_type": "stream",
     "text": [
      "AdvancePreprocessing __call__ method is called.\n",
      "DataPreprocessing __call__ method is called.\n",
      "AdvancePreprocessing: set_up method 실행\n",
      "DataPreprocessing set_up method is called.\n",
      "전처리 함수 추가함\n",
      "_train:            대출금액  대출기간  주택소유상태  연간소득  부채_대비_소득_비율  총계좌수  대출목적  최근_2년간_연체_횟수  \\\n",
      "0      12480000     0       3     4        18.90    15     0             0   \n",
      "1      14400000     1       1     8        22.33    21     1             0   \n",
      "2      12000000     0       1     6         8.60    14     0             0   \n",
      "3      14400000     0       1     8        15.09    15     0             0   \n",
      "4      18000000     1       3     4        25.39    19     2             0   \n",
      "...         ...   ...     ...   ...          ...   ...   ...           ...   \n",
      "96289  14400000     0       1     9         9.33    33     6             0   \n",
      "96290  28800000     1       1     8         5.16    25     1             0   \n",
      "96291  14400000     0       1     5        11.24    22     6             0   \n",
      "96292  15600000     0       1     3        17.30    21     0             2   \n",
      "96293   8640000     0       3     1        11.80    14     6             0   \n",
      "\n",
      "         총상환원금     총상환이자  총연체금액  연체계좌수 대출등급  상환개월      남은대출금액  \n",
      "0            0       0.0    0.0    0.0    C     0  12480000.0  \n",
      "1       373572  234060.0    0.0    0.0    B     2  13792368.0  \n",
      "2       928644  151944.0    0.0    0.0    A     3  10919412.0  \n",
      "3       325824  153108.0    0.0    0.0    C     1  13921068.0  \n",
      "4       228540  148956.0    0.0    0.0    B     1  17622504.0  \n",
      "...        ...       ...    ...    ...  ...   ...         ...  \n",
      "96289   974580  492168.0    0.0    0.0    C     2  12933252.0  \n",
      "96290   583728  855084.0    0.0    0.0    E     1  27361188.0  \n",
      "96291  1489128  241236.0    0.0    0.0    A     4  12669636.0  \n",
      "96292  1378368  818076.0    0.0    0.0    D     3  13403556.0  \n",
      "96293   596148  274956.0    0.0    0.0    C     2   7768896.0  \n",
      "\n",
      "[96294 rows x 15 columns]\n",
      "[Train Score]: 1.00 {'model_name': 'RandomForestClassifier', 'model_instance': RandomForestClassifier(random_state=42), 'model_score': 1.0}\n",
      "AdvancePreprocessing __call__ method is called.\n",
      "DataPreprocessing __call__ method is called.\n",
      "AdvancePreprocessing: set_up method 실행\n",
      "DataPreprocessing set_up method is called.\n",
      "전처리 함수 추가함\n"
     ]
    }
   ],
   "source": [
    "model_process.run(rf_model)"
   ]
  },
  {
   "cell_type": "code",
   "execution_count": null,
   "metadata": {},
   "outputs": [],
   "source": []
  },
  {
   "cell_type": "code",
   "execution_count": null,
   "metadata": {},
   "outputs": [],
   "source": []
  }
 ],
 "metadata": {
  "kernelspec": {
   "display_name": "base",
   "language": "python",
   "name": "python3"
  },
  "language_info": {
   "codemirror_mode": {
    "name": "ipython",
    "version": 3
   },
   "file_extension": ".py",
   "mimetype": "text/x-python",
   "name": "python",
   "nbconvert_exporter": "python",
   "pygments_lexer": "ipython3",
   "version": "3.10.9"
  },
  "orig_nbformat": 4
 },
 "nbformat": 4,
 "nbformat_minor": 2
}
