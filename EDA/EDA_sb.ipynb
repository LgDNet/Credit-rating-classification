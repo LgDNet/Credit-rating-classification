{
 "cells": [
  {
   "cell_type": "markdown",
   "metadata": {},
   "source": [
    "# EDA\n",
    "---\n",
    "1. 근로기간은 필요없다? 확인들어갑니다.\n",
    "    - 삭제가 맞다.\n",
    "2. 총계좌수가 의미가 있나?\n",
    "    - 의미 없는것 같음.\n",
    "    - 연체 계좌수 2이상은 날림.\n",
    "3.\n",
    "4.\n",
    "5.\n",
    "6.\n"
   ]
  },
  {
   "cell_type": "code",
   "execution_count": null,
   "metadata": {},
   "outputs": [],
   "source": [
    "!pip3 install -U scikit-learn"
   ]
  },
  {
   "cell_type": "code",
   "execution_count": null,
   "metadata": {},
   "outputs": [],
   "source": [
    "import os\n",
    "import sys\n",
    "__file__ = \"./EDA_sb.ipynb\"\n",
    "sys.path.append(os.path.dirname(os.path.abspath(os.path.dirname(__file__))))"
   ]
  },
  {
   "cell_type": "code",
   "execution_count": null,
   "metadata": {},
   "outputs": [],
   "source": [
    "from data.load import Data\n",
    "import seaborn as sns\n",
    "import matplotlib.pyplot as plt\n",
    "from sklearn.preprocessing import LabelEncoder\n",
    "train_data = Data.train\n",
    "test_data = Data.test\n",
    "submit_data = Data.submission\n"
   ]
  },
  {
   "cell_type": "code",
   "execution_count": null,
   "metadata": {},
   "outputs": [],
   "source": [
    "# 한글 폰트 설정.\n",
    "plt.rcParams['font.family'] = 'NanumGothic'\n",
    "plt.rc('axes', unicode_minus=False) # 마이너스 폰트 설정"
   ]
  },
  {
   "cell_type": "code",
   "execution_count": null,
   "metadata": {},
   "outputs": [],
   "source": [
    "oject_dict"
   ]
  },
  {
   "cell_type": "code",
   "execution_count": null,
   "metadata": {},
   "outputs": [],
   "source": [
    "# 기존의 간단한 전처리\n",
    "train_data = Data.train\n",
    "test_data = Data.test\n",
    "submit_data = Data.submission\n",
    "# 상환개월 신규 피처 생성.\n",
    "train_data['대출기간'] = train_data['대출기간'].astype(str).str[:3].astype(int)\n",
    "train_data['월원금상환금'] = train_data['대출금액']/train_data['대출기간']\n",
    "train_data['상환개월'] = train_data['총상환원금']/train_data['월원금상환금']\n",
    "\n",
    "train_data.drop(['월원금상환금'],axis=1, inplace=True)\n",
    "train_data['상환개월'] = train_data['상환개월'].round().astype(int)\n",
    "\n",
    "# 주택 소유상태 Any 데이터 제거(9만6천개중 단ㄱ1개)\n",
    "train_data[train_data[\"주택소유상태\"] != \"ANY\"].reset_index(drop = True,inplace = True)\n",
    "\n",
    "# 대출 목적 라벨링.\n",
    "train_object = train_data['대출목적'].unique()\n",
    "oject_dict = dict()\n",
    "for i, v in enumerate(train_data['대출목적'].unique()):\n",
    "    oject_dict[v] = i\n",
    "# 만약에 없다면 위의 데이터에 없다면 기타로 설정.\n",
    "train_data['대출목적'] = train_data['대출목적'].apply(lambda x: oject_dict.get(x, '기타'))\n",
    "\n",
    "# 근로기간 라벨링.\n",
    "train_data['근로기간'] = train_data['근로기간'].astype(str)\n",
    "train_data['근로기간'] = train_data['근로기간'].str.extract('(\\d+)').astype(float)  # 숫자만 추출\n",
    "# 'Unknown'은 NaN으로 변환되므로, 이를 -1로 대체\n",
    "train_data['근로기간'].fillna(-1, inplace=True)\n",
    "# '10+' ->  11로 대체\n",
    "train_data.loc[train_data['근로기간'] == 10, '근로기간'] = 11\n",
    "# '<1 year'  -> 0로 대체\n",
    "train_data.loc[train_data['근로기간'].isna(), '근로기간'] = 0\n",
    "\n",
    "# 대출 등급, 주택소유상태, 대출기간 라벨링.\n",
    "le = LabelEncoder()\n",
    "train_data['주택소유상태'] = le.fit_transform(train_data['주택소유상태'])\n",
    "train_data['대출기간'] = le.fit_transform(train_data['대출기간'])\n",
    "train_data['대출등급'] = le.fit_transform(train_data['대출등급'])\n",
    "\n",
    "train_data.head(3)\n"
   ]
  },
  {
   "cell_type": "code",
   "execution_count": null,
   "metadata": {},
   "outputs": [],
   "source": [
    "correlation =  train_data[['대출금액', '대출기간', '근로기간', '주택소유상태', '연간소득', '부채_대비_소득_비율', '총계좌수',\n",
    "       '대출목적', '최근_2년간_연체_횟수', '총상환원금', '총상환이자', '총연체금액', '연체계좌수', '대출등급',\n",
    "       '상환개월']].corr()\n",
    "correlation"
   ]
  },
  {
   "cell_type": "code",
   "execution_count": null,
   "metadata": {},
   "outputs": [],
   "source": [
    "plt.figure(figsize=(10, 10))\n",
    "sns.heatmap(data = correlation, annot=True, fmt = '.2f', linewidths=.5, cmap='Blues')"
   ]
  },
  {
   "cell_type": "markdown",
   "metadata": {},
   "source": [
    "# 근로기간 "
   ]
  },
  {
   "cell_type": "code",
   "execution_count": null,
   "metadata": {},
   "outputs": [],
   "source": [
    "# 비율로 살펴보기\n",
    "df =  train_data[['근로기간', '대출등급']]\n",
    "# 각 근로기간별 대출 등급의 개수\n",
    "df['등급별_건수'] = df.groupby(['근로기간', '대출등급'])['대출등급'].transform('count')\n",
    "\n",
    "# 각 근로기간의 총 대출 건수\n",
    "df['총_건수'] = df.groupby('근로기간')['대출등급'].transform('count')\n",
    "\n",
    "# 비율 계산\n",
    "df['비율'] = df['등급별_건수'] / df['총_건수']\n",
    "\n",
    "plt.figure(figsize=(10,6))\n",
    "sns.barplot(x='근로기간', y='비율', hue='대출등급', data=df)\n",
    "plt.show()"
   ]
  },
  {
   "cell_type": "code",
   "execution_count": null,
   "metadata": {},
   "outputs": [],
   "source": [
    "le = LabelEncoder()\n",
    "train_data['대출등급'] = le.fit_transform(train_data['대출등급'])"
   ]
  },
  {
   "cell_type": "code",
   "execution_count": null,
   "metadata": {},
   "outputs": [],
   "source": [
    "corr1 = train_data[['근로기간', '대출등급']].corr()\n",
    "corr1"
   ]
  },
  {
   "cell_type": "code",
   "execution_count": null,
   "metadata": {},
   "outputs": [],
   "source": [
    "# 근로기간 제거\n",
    "train_data.drop(['근로기간'], axis=1, inplace=True)"
   ]
  },
  {
   "cell_type": "markdown",
   "metadata": {},
   "source": [
    "# 총 계좌 수\n"
   ]
  },
  {
   "cell_type": "code",
   "execution_count": null,
   "metadata": {},
   "outputs": [],
   "source": [
    "df = train_data[['대출등급', '총계좌수']]\n",
    "plt.figure(figsize=(40,6))\n",
    "sns.countplot(x='총계좌수', hue='대출등급', data=df)\n",
    "plt.xticks(range(int(min(df['총계좌수'])), 51))\n",
    "plt.show()"
   ]
  },
  {
   "cell_type": "code",
   "execution_count": null,
   "metadata": {},
   "outputs": [],
   "source": [
    "corr2 = train_data[['총계좌수', '대출등급']].corr()\n",
    "corr2"
   ]
  },
  {
   "cell_type": "code",
   "execution_count": null,
   "metadata": {},
   "outputs": [],
   "source": [
    "corr3 = train_data[['연체계좌수', '대출등급']].corr()\n",
    "corr3"
   ]
  },
  {
   "cell_type": "code",
   "execution_count": null,
   "metadata": {},
   "outputs": [],
   "source": [
    "# 신규 피처로 연체계좌수 비율\n",
    "train_data['연체계좌비율'] =  train_data['연체계좌수'] / train_data['총계좌수']\n",
    "corr4 = train_data[['연체계좌비율', '대출등급']].corr()\n",
    "corr4"
   ]
  },
  {
   "cell_type": "code",
   "execution_count": null,
   "metadata": {},
   "outputs": [],
   "source": [
    "df = df[df['총계좌수'] < 50]\n",
    "# 각 총계좌수별 대출 등급의 개수를 구합니다.\n",
    "df['등급별_건수'] = df.groupby(['총계좌수', '대출등급'])['대출등급'].transform('count')\n",
    "\n",
    "# 각 총계좌수의 총 대출 건수를 구합니다.\n",
    "df['총_건수'] = df.groupby('총계좌수')['대출등급'].transform('count')\n",
    "\n",
    "# 비율을 계산합니다.\n",
    "df['비율'] = df['등급별_건수'] / df['총_건수']\n",
    "\n",
    "# 비율을 시각화합니다.\n",
    "plt.figure(figsize=(15,6))\n",
    "sns.barplot(x='총계좌수', y='비율', hue='대출등급', data=df)\n",
    "plt.show()"
   ]
  },
  {
   "cell_type": "code",
   "execution_count": null,
   "metadata": {},
   "outputs": [],
   "source": [
    "df =train_data[['연체계좌수', '대출등급']]\n",
    "\n",
    "# 각 총계좌수별 대출 등급의 개수를 구합니다.\n",
    "df['등급별_건수'] = df.groupby(['연체계좌수', '대출등급'])['대출등급'].transform('count')\n",
    "\n",
    "# 각 총계좌수의 총 대출 건수를 구합니다.\n",
    "df['총_건수'] = df.groupby('연체계좌수')['대출등급'].transform('count')\n",
    "\n",
    "# 비율을 계산합니다.\n",
    "df['비율'] = df['등급별_건수'] / df['총_건수']\n",
    "\n",
    "# 비율을 시각화합니다.\n",
    "plt.figure(figsize=(15,6))\n",
    "sns.barplot(x='연체계좌수', y='비율', hue='대출등급', data=df)\n",
    "plt.show()"
   ]
  },
  {
   "cell_type": "markdown",
   "metadata": {},
   "source": [
    "* 연체계좌수도 날리기"
   ]
  },
  {
   "cell_type": "code",
   "execution_count": null,
   "metadata": {},
   "outputs": [],
   "source": [
    "train_data.columns"
   ]
  },
  {
   "cell_type": "markdown",
   "metadata": {},
   "source": [
    "# 학습"
   ]
  },
  {
   "cell_type": "code",
   "execution_count": null,
   "metadata": {},
   "outputs": [],
   "source": [
    "import numpy as np\n",
    "import pickle   \n",
    "import pandas as pd\n",
    "from sklearn.preprocessing import LabelEncoder\n",
    "from sklearn.model_selection import train_test_split\n",
    "from sklearn.metrics import f1_score\n",
    "import lightgbm as lgb\n",
    "from sklearn.metrics import accuracy_score\n",
    "import optuna\n"
   ]
  },
  {
   "cell_type": "code",
   "execution_count": null,
   "metadata": {},
   "outputs": [],
   "source": [
    "train_data = Data.train\n",
    "test_data = Data.test\n",
    "submit_data = Data.submission\n",
    "# 기존의 간단한 전처리\n",
    "# 상환개월 신규 피처 생성.\n",
    "train_data['대출기간'] = train_data['대출기간'].astype(str).str[:3].astype(int)\n",
    "train_data['월원금상환금'] = train_data['대출금액']/train_data['대출기간']\n",
    "train_data['상환개월'] = train_data['총상환원금']/train_data['월원금상환금']\n",
    "train_data.drop(['월원금상환금'],axis=1, inplace=True)\n",
    "train_data['상환개월'] = train_data['상환개월'].round().astype(int)\n",
    "\n",
    "# 주택 소유상태 Any 데이터 제거(9만6천개중 단ㄱ1개)\n",
    "train_data[train_data[\"주택소유상태\"] != \"ANY\"].reset_index(drop = True,inplace = True)\n",
    "\n",
    "# 대출 목적 라벨링.\n",
    "train_object = train_data['대출목적'].unique()\n",
    "oject_dict = dict()\n",
    "for i, v in enumerate(train_data['대출목적'].unique()):\n",
    "    oject_dict[v] = i\n",
    "# 만약에 없다면 위의 데이터에 없다면 기타로 설정.\n",
    "train_data['대출목적'] = train_data['대출목적'].apply(lambda x: oject_dict.get(x, '기타'))\n",
    "\n",
    "# 근로기간 라벨링.\n",
    "train_data['근로기간'] = train_data['근로기간'].astype(str)\n",
    "train_data['근로기간'] = train_data['근로기간'].str.extract('(\\d+)').astype(float)  # 숫자만 추출\n",
    "# 'Unknown'은 NaN으로 변환되므로, 이를 -1로 대체\n",
    "train_data['근로기간'].fillna(-1, inplace=True)\n",
    "# '10+' ->  11로 대체\n",
    "train_data.loc[train_data['근로기간'] == 10, '근로기간'] = 11\n",
    "# '<1 year'  -> 0로 대체\n",
    "train_data.loc[train_data['근로기간'].isna(), '근로기간'] = 0\n",
    "\n",
    "# 대출 등급, 주택소유상태, 대출기간 라벨링.\n",
    "le = LabelEncoder()\n",
    "train_data['주택소유상태'] = le.fit_transform(train_data['주택소유상태'])\n",
    "train_data['대출기간'] = le.fit_transform(train_data['대출기간'])\n",
    "train_data['대출등급'] = le.fit_transform(train_data['대출등급'])\n",
    "\n",
    "train_data['연간소득'] = pd.qcut(train_data['연간소득'], q=10, labels = False)\n",
    "train_data[\"총상환금\"] = train_data[\"총상환원금\"] + train_data[\"총상환이자\"]\n",
    "train_data[\"남은대출금액\"] = train_data[\"대출금액\"] - train_data[\"총상환금\"]\n",
    "train_data = train_data.drop(columns=['총상환금'])\n",
    "train_data.head(3)\n"
   ]
  },
  {
   "cell_type": "code",
   "execution_count": null,
   "metadata": {},
   "outputs": [],
   "source": [
    "# 근로기간 제거\n",
    "train_data = train_data.drop(columns=['ID', '근로기간'])\n",
    "train_data.head()"
   ]
  },
  {
   "cell_type": "code",
   "execution_count": null,
   "metadata": {},
   "outputs": [],
   "source": [
    "train_data.corr()"
   ]
  },
  {
   "cell_type": "code",
   "execution_count": null,
   "metadata": {},
   "outputs": [],
   "source": [
    "train_x = train_data.drop(columns=['대출등급'])\n",
    "train_y = train_data['대출등급']\n",
    "\n",
    "test_x = test_data.drop(columns=['ID', '근로기간'])\n",
    "# 기존의 간단한 전처리\n",
    "# 상환개월 신규 피처 생성.\n",
    "test_x['대출기간'] = test_x['대출기간'].astype(str).str[:3].astype(int)\n",
    "test_x['월원금상환금'] = test_x['대출금액']/test_x['대출기간']\n",
    "test_x['상환개월'] = test_x['총상환원금']/test_x['월원금상환금']\n",
    "\n",
    "test_x.drop(['월원금상환금'],axis=1, inplace=True)\n",
    "test_x['상환개월'] = test_x['상환개월'].round().astype(int)\n",
    "\n",
    "# 기타로 처리.\n",
    "test_x['대출목적'] = test_x['대출목적'].apply(lambda x: oject_dict.get(x, 8))\n",
    "\n",
    "# 대출 등급, 주택소유상태, 대출기간 라벨링.\n",
    "le1 = LabelEncoder()\n",
    "test_x['주택소유상태'] = le1.fit_transform(test_x['주택소유상태'])\n",
    "test_x['대출기간'] = le1.fit_transform(test_x['대출기간'])\n",
    "test_x['연간소득'] = pd.qcut(test_x['연간소득'], q=10, labels = False)\n",
    "test_x[\"총상환금\"] = test_x[\"총상환원금\"] + test_x[\"총상환이자\"]\n",
    "test_x[\"남은대출금액\"] = test_x[\"대출금액\"] - test_x[\"총상환금\"]\n",
    "test_x = test_x.drop(columns=['총상환금'])\n",
    "test_x.head(3)"
   ]
  },
  {
   "cell_type": "code",
   "execution_count": null,
   "metadata": {},
   "outputs": [],
   "source": [
    "def objective(trial):\n",
    "    # 하이퍼파라미터 탐색 공간 설정\n",
    "    param = {\n",
    "        'objective': 'multiclass',  \n",
    "        'metric': 'multi_logloss',  \n",
    "        'verbosity': -1,\n",
    "        'boosting_type': 'gbdt',\n",
    "        'num_class': 7, \n",
    "        'lambda_l1': trial.suggest_loguniform('lambda_l1', 1e-8, 10.0),\n",
    "        'lambda_l2': trial.suggest_loguniform('lambda_l2', 1e-8, 10.0),\n",
    "        'num_leaves': trial.suggest_int('num_leaves', 2, 256),\n",
    "        'feature_fraction': trial.suggest_uniform('feature_fraction', 0.4, 1.0),\n",
    "        'bagging_fraction': trial.suggest_uniform('bagging_fraction', 0.4, 1.0),\n",
    "        'bagging_freq': trial.suggest_int('bagging_freq', 1, 7),\n",
    "        'min_child_samples': trial.suggest_int('min_child_samples', 5, 100),\n",
    "        'learning_rate': trial.suggest_loguniform('learning_rate', 0.01, 0.3),\n",
    "        'n_estimators': trial.suggest_int('n_estimators', 100, 1000),\n",
    "    }\n",
    "\n",
    "    # 데이터 분할\n",
    "    X_train, X_val, y_train, y_val = train_test_split(train_x, train_y, test_size=0.2, random_state=42)\n",
    "\n",
    "    # 모델 생성 및 학습\n",
    "    lgbm = lgb.LGBMClassifier(**param)\n",
    "    early_stopping_callback = lgb.early_stopping(stopping_rounds=100, verbose=True)\n",
    "    lgbm.fit(X_train, y_train, eval_set=[(X_val, y_val)], callbacks=[early_stopping_callback])\n",
    "\n",
    "    # 평가\n",
    "    y_pred = lgbm.predict(X_val)\n",
    "    accuracy = accuracy_score(y_val, y_pred)\n",
    "    return accuracy"
   ]
  },
  {
   "cell_type": "code",
   "execution_count": null,
   "metadata": {},
   "outputs": [],
   "source": [
    "import optuna\n",
    "# 스터디 객체 생성 및 최적화 실행\n",
    "study = optuna.create_study(direction='maximize')\n",
    "study.optimize(objective, n_trials=500, show_progress_bar=True)\n",
    "print('Number of finished trials:', len(study.trials))\n",
    "print('Best trial:')\n",
    "trial = study.best_trial\n",
    "\n",
    "print('  Value: ', trial.value)\n",
    "print('  Params: ')\n",
    "for key, value in trial.params.items():\n",
    "    print(f'    {key}: {value}')\n",
    "y_pred = lgbm.predict(val_features)\n",
    "accuracy = accuracy_score(val_labels, y_pred)\n",
    "print(f'Validation Accuracy: {accuracy:.2f}')"
   ]
  },
  {
   "cell_type": "code",
   "execution_count": 65,
   "metadata": {},
   "outputs": [],
   "source": [
    "# 최적화된 하이퍼파라미터 적용\n",
    "best_params = study.best_trial.params\n",
    "lgbm = lgb.LGBMClassifier(**best_params)\n",
    "lgbm.fit(train_x, train_y)  # 최종 모델 학습"
   ]
  },
  {
   "cell_type": "code",
   "execution_count": 66,
   "metadata": {},
   "outputs": [
    {
     "name": "stdout",
     "output_type": "stream",
     "text": [
      "[LightGBM] [Warning] feature_fraction is set=0.5817499384765732, colsample_bytree=1.0 will be ignored. Current value: feature_fraction=0.5817499384765732\n",
      "[LightGBM] [Warning] lambda_l1 is set=0.026660975494242636, reg_alpha=0.0 will be ignored. Current value: lambda_l1=0.026660975494242636\n",
      "[LightGBM] [Warning] lambda_l2 is set=7.980367474195268e-07, reg_lambda=0.0 will be ignored. Current value: lambda_l2=7.980367474195268e-07\n",
      "[LightGBM] [Warning] bagging_fraction is set=0.9985208349482491, subsample=1.0 will be ignored. Current value: bagging_fraction=0.9985208349482491\n",
      "[LightGBM] [Warning] bagging_freq is set=2, subsample_freq=0 will be ignored. Current value: bagging_freq=2\n"
     ]
    }
   ],
   "source": [
    "\n",
    "pred = lgbm.predict(test_x)\n",
    "pred = le.inverse_transform(pred)"
   ]
  },
  {
   "cell_type": "code",
   "execution_count": 68,
   "metadata": {},
   "outputs": [
    {
     "data": {
      "text/html": [
       "<div>\n",
       "<style scoped>\n",
       "    .dataframe tbody tr th:only-of-type {\n",
       "        vertical-align: middle;\n",
       "    }\n",
       "\n",
       "    .dataframe tbody tr th {\n",
       "        vertical-align: top;\n",
       "    }\n",
       "\n",
       "    .dataframe thead th {\n",
       "        text-align: right;\n",
       "    }\n",
       "</style>\n",
       "<table border=\"1\" class=\"dataframe\">\n",
       "  <thead>\n",
       "    <tr style=\"text-align: right;\">\n",
       "      <th></th>\n",
       "      <th>ID</th>\n",
       "      <th>대출등급</th>\n",
       "    </tr>\n",
       "  </thead>\n",
       "  <tbody>\n",
       "    <tr>\n",
       "      <th>0</th>\n",
       "      <td>TEST_00000</td>\n",
       "      <td>B</td>\n",
       "    </tr>\n",
       "    <tr>\n",
       "      <th>1</th>\n",
       "      <td>TEST_00001</td>\n",
       "      <td>B</td>\n",
       "    </tr>\n",
       "    <tr>\n",
       "      <th>2</th>\n",
       "      <td>TEST_00002</td>\n",
       "      <td>A</td>\n",
       "    </tr>\n",
       "    <tr>\n",
       "      <th>3</th>\n",
       "      <td>TEST_00003</td>\n",
       "      <td>C</td>\n",
       "    </tr>\n",
       "    <tr>\n",
       "      <th>4</th>\n",
       "      <td>TEST_00004</td>\n",
       "      <td>C</td>\n",
       "    </tr>\n",
       "    <tr>\n",
       "      <th>...</th>\n",
       "      <td>...</td>\n",
       "      <td>...</td>\n",
       "    </tr>\n",
       "    <tr>\n",
       "      <th>64192</th>\n",
       "      <td>TEST_64192</td>\n",
       "      <td>D</td>\n",
       "    </tr>\n",
       "    <tr>\n",
       "      <th>64193</th>\n",
       "      <td>TEST_64193</td>\n",
       "      <td>D</td>\n",
       "    </tr>\n",
       "    <tr>\n",
       "      <th>64194</th>\n",
       "      <td>TEST_64194</td>\n",
       "      <td>D</td>\n",
       "    </tr>\n",
       "    <tr>\n",
       "      <th>64195</th>\n",
       "      <td>TEST_64195</td>\n",
       "      <td>C</td>\n",
       "    </tr>\n",
       "    <tr>\n",
       "      <th>64196</th>\n",
       "      <td>TEST_64196</td>\n",
       "      <td>A</td>\n",
       "    </tr>\n",
       "  </tbody>\n",
       "</table>\n",
       "<p>64197 rows × 2 columns</p>\n",
       "</div>"
      ],
      "text/plain": [
       "               ID 대출등급\n",
       "0      TEST_00000    B\n",
       "1      TEST_00001    B\n",
       "2      TEST_00002    A\n",
       "3      TEST_00003    C\n",
       "4      TEST_00004    C\n",
       "...           ...  ...\n",
       "64192  TEST_64192    D\n",
       "64193  TEST_64193    D\n",
       "64194  TEST_64194    D\n",
       "64195  TEST_64195    C\n",
       "64196  TEST_64196    A\n",
       "\n",
       "[64197 rows x 2 columns]"
      ]
     },
     "execution_count": 68,
     "metadata": {},
     "output_type": "execute_result"
    }
   ],
   "source": [
    "submit_data['대출등급'] = pred\n",
    "submit_data"
   ]
  },
  {
   "cell_type": "code",
   "execution_count": 69,
   "metadata": {},
   "outputs": [],
   "source": [
    "submit_data.to_csv('./sample_submission.csv', index=False)"
   ]
  },
  {
   "cell_type": "code",
   "execution_count": null,
   "metadata": {},
   "outputs": [],
   "source": [
    "from xgboost import XGBClassifier\n",
    "model = XGBClassifier(random_state=42)\n",
    "model.fit(train_x, train_y)"
   ]
  },
  {
   "cell_type": "code",
   "execution_count": null,
   "metadata": {},
   "outputs": [],
   "source": [
    "oject_dict"
   ]
  },
  {
   "cell_type": "code",
   "execution_count": null,
   "metadata": {},
   "outputs": [],
   "source": [
    "# 기존의 간단한 전처리\n",
    "# 상환개월 신규 피처 생성.\n",
    "test_x['대출기간'] = test_x['대출기간'].astype(str).str[:3].astype(int)\n",
    "test_x['월원금상환금'] = test_x['대출금액']/test_x['대출기간']\n",
    "test_x['상환개월'] = test_x['총상환원금']/test_x['월원금상환금']\n",
    "\n",
    "test_x.drop(['월원금상환금'],axis=1, inplace=True)\n",
    "test_x['상환개월'] = test_x['상환개월'].round().astype(int)\n",
    "\n",
    "# 기타로 처리.\n",
    "test_x['대출목적'] = test_x['대출목적'].apply(lambda x: oject_dict.get(x, 8))\n",
    "\n",
    "# 대출 등급, 주택소유상태, 대출기간 라벨링.\n",
    "le1 = LabelEncoder()\n",
    "test_x['주택소유상태'] = le1.fit_transform(test_x['주택소유상태'])\n",
    "test_x['대출기간'] = le1.fit_transform(test_x['대출기간'])\n",
    "\n",
    "test_x.head(3)\n"
   ]
  },
  {
   "cell_type": "code",
   "execution_count": null,
   "metadata": {},
   "outputs": [],
   "source": [
    "test_x.info()"
   ]
  },
  {
   "cell_type": "code",
   "execution_count": null,
   "metadata": {},
   "outputs": [],
   "source": [
    "pred = model.predict(test_x)\n",
    "print(pred)\n",
    "pred = le.inverse_transform(pred)\n",
    "pred"
   ]
  },
  {
   "cell_type": "code",
   "execution_count": null,
   "metadata": {},
   "outputs": [],
   "source": [
    "submit_data['대출등급'] = pred\n",
    "submit_data"
   ]
  },
  {
   "cell_type": "code",
   "execution_count": null,
   "metadata": {},
   "outputs": [],
   "source": [
    "submit_data.to_csv('sample_submission.csv', index=False)"
   ]
  },
  {
   "cell_type": "code",
   "execution_count": null,
   "metadata": {},
   "outputs": [],
   "source": []
  }
 ],
 "metadata": {
  "kernelspec": {
   "display_name": "Python 3",
   "language": "python",
   "name": "python3"
  },
  "language_info": {
   "codemirror_mode": {
    "name": "ipython",
    "version": 3
   },
   "file_extension": ".py",
   "mimetype": "text/x-python",
   "name": "python",
   "nbconvert_exporter": "python",
   "pygments_lexer": "ipython3",
   "version": "3.9.7"
  }
 },
 "nbformat": 4,
 "nbformat_minor": 2
}
