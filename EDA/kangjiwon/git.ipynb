{
 "cells": [
  {
   "cell_type": "code",
   "execution_count": 14,
   "id": "396ff028-2e18-459c-aa9c-0474a0e4988f",
   "metadata": {},
   "outputs": [
    {
     "name": "stdout",
     "output_type": "stream",
     "text": [
      "/Users/kangjiwon/Desktop/HACKATHON\n"
     ]
    }
   ],
   "source": [
    "cd .."
   ]
  },
  {
   "cell_type": "code",
   "execution_count": 15,
   "id": "22875549-4d30-4f07-9f91-157c7fc977cd",
   "metadata": {
    "scrolled": true
   },
   "outputs": [
    {
     "name": "stdout",
     "output_type": "stream",
     "text": [
      "현재 브랜치에 추적 정보가 없습니다.\n",
      "어떤 브랜치를 대상으로 병합할지 지정하십시오.\n",
      "자세한 정보는 git-pull(1) 페이지를 참고하십시오.\n",
      "\n",
      "    git pull <리모트> <브랜치>\n",
      "\n",
      "이 브랜치에 대한 추적 정보를 설정하려면 다음과 같이 할 수 있습니다:\n",
      "\n",
      "    git branch --set-upstream-to=<리모트>/<브랜치> EarthWon\n",
      "\n"
     ]
    }
   ],
   "source": [
    "!git pull"
   ]
  },
  {
   "cell_type": "code",
   "execution_count": 10,
   "id": "a94f278b-da10-4cec-b2cd-220140395a18",
   "metadata": {},
   "outputs": [],
   "source": [
    "!git add ."
   ]
  },
  {
   "cell_type": "code",
   "execution_count": 11,
   "id": "6ef78245-80e5-448b-885d-d040aac64a3c",
   "metadata": {},
   "outputs": [
    {
     "name": "stdout",
     "output_type": "stream",
     "text": [
      "[submit f267e98] create folder\n",
      " 2 files changed, 9 insertions(+), 2 deletions(-)\n",
      " create mode 100644 EDA/kangjiwon/Untitled.ipynb\n"
     ]
    }
   ],
   "source": [
    "!git commit -m \"--\""
   ]
  },
  {
   "cell_type": "code",
   "execution_count": 12,
   "id": "4ce88745-82ee-49ed-b2c8-533148ff90c9",
   "metadata": {},
   "outputs": [
    {
     "name": "stdout",
     "output_type": "stream",
     "text": [
      "오브젝트 나열하는 중: 9, 완료.\n",
      "오브젝트 개수 세는 중: 100% (9/9), 완료.\n",
      "Delta compression using up to 8 threads\n",
      "오브젝트 압축하는 중: 100% (5/5), 완료.\n",
      "오브젝트 쓰는 중: 100% (6/6), 596 bytes | 596.00 KiB/s, 완료.\n",
      "Total 6 (delta 2), reused 0 (delta 0), pack-reused 0\n",
      "remote: Resolving deltas: 100% (2/2), completed with 2 local objects.\u001b[K\n",
      "To https://github.com/LgDNet/Credit-rating-classification.git\n",
      "   39d7b15..f267e98  submit -> submit\n"
     ]
    }
   ],
   "source": [
    "! git push"
   ]
  }
 ],
 "metadata": {
  "kernelspec": {
   "display_name": "Python 3 (ipykernel)",
   "language": "python",
   "name": "python3"
  },
  "language_info": {
   "codemirror_mode": {
    "name": "ipython",
    "version": 3
   },
   "file_extension": ".py",
   "mimetype": "text/x-python",
   "name": "python",
   "nbconvert_exporter": "python",
   "pygments_lexer": "ipython3",
   "version": "3.10.4"
  }
 },
 "nbformat": 4,
 "nbformat_minor": 5
}
