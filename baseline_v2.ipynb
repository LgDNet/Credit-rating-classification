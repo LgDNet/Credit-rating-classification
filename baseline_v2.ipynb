{
 "cells": [
  {
   "cell_type": "markdown",
   "id": "40aa3fba-31b6-47bf-9a09-7a205aa648c2",
   "metadata": {},
   "source": [
    "## Baseline V2 - 2024.01.20"
   ]
  },
  {
   "cell_type": "code",
   "execution_count": 1,
   "id": "93a1a3d2-5d74-4dba-9a39-a48646c5d627",
   "metadata": {},
   "outputs": [],
   "source": [
    "from src.models.classification.models import Model\n",
    "from src.base import BasePiepline\n",
    "# from src.utils.data_preprocessing import DataPreprocessing\n",
    "from src.utils.manage_pkl_files import get_best_params\n",
    "from src.utils.set_seed import seed_everything\n",
    "from sklearn.preprocessing import OneHotEncoder\n",
    "\n",
    "SEED = 42 # NOTE: 시드 값 설정\n",
    "seed_everything(SEED)\n",
    "\n",
    "model = Model()"
   ]
  },
  {
   "cell_type": "markdown",
   "id": "2fcd2117",
   "metadata": {},
   "source": [
    "### 전처리 클래스 상속 예시"
   ]
  },
  {
   "cell_type": "code",
   "execution_count": 2,
   "id": "0502cf2e-7cef-439a-8d74-2f58b0e05a7f",
   "metadata": {},
   "outputs": [],
   "source": [
    "import pandas as pd\n",
    "import numpy as np\n",
    "from sklearn.preprocessing import LabelEncoder\n",
    "import warnings\n",
    "warnings.filterwarnings(action='ignore')\n",
    "\n",
    "class DataPreprocessing:\n",
    "    def __init__(self):        \n",
    "        pass\n",
    "\n",
    "    def set_up_dataframe(self,df,mode):\n",
    "        self.df = df # df에 새롭게 저장\n",
    "        self.mode = mode\n",
    "        if self.mode:\n",
    "            self.label_encoder_ = {} # data leakage 방지\n",
    "        \n",
    "    def init(self):\n",
    "        \"\"\" 전처리 초기 \"\"\"\n",
    "        self.df = self.df.drop(columns=['ID'])\n",
    "\n",
    "\n",
    "        # 근로기간도 따로 빼내야 하나?\n",
    "        label_dict = {'< 1 year': 0, '<1 year': 0, '1 year': 1, '1 years': 1, '2 years': 2, '3': 3,\n",
    "                      '3 years': 3, '4 years': 4, '5 years': 5, '6 years': 6, '7 years': 7, '8 years': 8,\n",
    "                      '9 years': 9, '10+ years': 10, '10+years': 10, 'Unknown': -1\n",
    "                      }\n",
    "\n",
    "        self.df['근로기간'] = self.df['근로기간'].map(label_dict)\n",
    "\n",
    "    def categorical_to_numeric(self):\n",
    "        \"\"\" 범주형 수치형으로 변환 \"\"\"\n",
    "        categorical_features = ['대출기간', '주택소유상태']\n",
    "        for idx in categorical_features:\n",
    "            if self.mode: # train, valid이면\n",
    "                self.label_encoder_[idx] = LabelEncoder() #딕셔너리에 저장\n",
    "                self.df[idx] = self.label_encoder_[idx].fit_transform(self.df[idx])\n",
    "            else: # test이면\n",
    "                self.df[idx] = self.label_encoder_[idx].transform(self.df[idx])\n",
    "                    \n",
    "                \n",
    "\n",
    "    def repayment_month_interest_rate(self):\n",
    "        \"\"\"\n",
    "        강지원 선생님 과 고건영 제자의 작품\n",
    "        상환개월 및 이자율 피쳐 생성\n",
    "        \"\"\"\n",
    "        self.df[\"갚은금액\"] = self.df[\"총상환원금\"] + self.df[\"총상환이자\"]\n",
    "        # 가정 1\n",
    "        conv1 = self.df[\"총연체금액\"] == 0 \n",
    "        # 가정 2\n",
    "        conv2 = self.df[\"갚은금액\"] > 0  \n",
    "        data = self.df[conv1 & conv2]\n",
    "        # 월원금상환금 피쳐 생성\n",
    "        data['대출기간'] = data['대출기간'].astype(str).str[:3].astype(int) # 말이 됨\n",
    "        data[\"월원금상환금\"] = data[\"대출금액\"] / data[\"대출기간\"]\n",
    "        # 상환개월 피쳐 생성\n",
    "        data[\"상환개월\"] = round(data[\"총상환원금\"] / data[\"월원금상환금\"])\n",
    "        # 이자율 피쳐 생성\n",
    "        data[\"이자율\"] = data[\"총상환이자\"] / (data['대출금액'] * data['상환개월'])\n",
    "        # null값 변경\n",
    "        data = data.replace([np.inf, -np.inf], np.nan)\n",
    "        # 결측치 채우기\n",
    "        if self.mode:\n",
    "            self.rate_mean = data[\"이자율\"].mean() # 인스턴스변수에 저장 data leakage 해소 -> 나중에 저장하는 딕셔너리 변수로 만들어도 좋을 듯?\n",
    "        data[\"이자율\"].fillna(self.rate_mean, inplace = True)\n",
    "        # 원본 데이터에 복원\n",
    "        self.df[\"상환개월\"] = data[\"상환개월\"]\n",
    "        self.df[\"이자율\"] = data[\"이자율\"]\n",
    "        # 이자율 결측치 채우기 (연체 한 사람들)\n",
    "        self.df[\"이자율\"].fillna(self.rate_mean, inplace = True)\n",
    "        # 갚은 금액 0인 사람들 상환개월 0으로 채우기\n",
    "        conv3 = self.df[\"갚은금액\"] == 0\n",
    "        li = self.df[conv3].index.to_list()\n",
    "        self.df.loc[li, '상환개월'] = 0\n",
    "        # 연체한 사람들 상환 개월 구하기\n",
    "        bb = self.df[self.df['상환개월'].isna()]\n",
    "        bb[\"월상환이자\"] = bb[\"대출금액\"] * bb['이자율']\n",
    "        bb['대출기간'] = bb['대출기간'].astype(str).str[:3].astype(int) # 말이 됨\n",
    "        bb[\"월원금상환금\"] = bb[\"대출금액\"] / bb[\"대출기간\"]\n",
    "        bb[\"상환개월\"] = round(bb[\"총상환이자\"] / bb[\"월상환이자\"])\n",
    "        self.df.loc[self.df[self.df[\"상환개월\"].isna()].index.to_list(), \"상환개월\"] = bb[\"상환개월\"]\n",
    "\n",
    "    def etcetera(self):\n",
    "        \"\"\" 이상한 값들 변환 전처리 \"\"\"\n",
    "        self.df[self.df[\"주택소유상태\"] != \"ANY\"].reset_index(drop=True, inplace=True)\n",
    "        \n",
    "    def loan_object(self):\n",
    "        \"\"\" 대출 목적 변환 \"\"\"\n",
    "        train_object = self.df['대출목적'].unique()  # NOTE: not used variable\n",
    "        oject_dict = dict()\n",
    "        for i, v in enumerate(self.df['대출목적'].unique()):\n",
    "            oject_dict[v] = i\n",
    "\n",
    "        self.df['대출목적'] = self.df['대출목적'].apply(lambda x: oject_dict.get(x, '기타'))\n",
    "\n",
    "    def remaining_loan_amount(self):\n",
    "        \"\"\" 남은대출금액 피쳐 생성 \"\"\"\n",
    "        self.df['연간소득'] = pd.qcut(self.df['연간소득'], q=10, labels=False)\n",
    "        self.df[\"총상환금\"] = self.df[\"총상환원금\"] + self.df[\"총상환이자\"]\n",
    "        self.df[\"남은대출금액\"] = self.df[\"대출금액\"] - self.df[\"총상환금\"]\n",
    "        self.df = self.df.drop(columns=['총상환금'])\n",
    "        \n",
    "    def drop_column(self):\n",
    "        self.df = self.df.drop(columns=['갚은금액'])\n",
    "        \n",
    "    def run(self):\n",
    "        # 순서나 뺄거등 개인이 조절\n",
    "        self.init()\n",
    "        self.repayment_month_interest_rate()\n",
    "        self.etcetera()\n",
    "        self.loan_object()\n",
    "        self.remaining_loan_amount()\n",
    "        self.drop_column()\n",
    "        self.categorical_to_numeric()\n",
    "        return self.df"
   ]
  },
  {
   "cell_type": "code",
   "execution_count": null,
   "id": "86253170-2534-4a21-8ae8-e97ac0a45574",
   "metadata": {},
   "outputs": [],
   "source": []
  },
  {
   "cell_type": "markdown",
   "id": "0e980ae0",
   "metadata": {},
   "source": [
    "### 분류 모델 클래스 및 파이프라인 선언"
   ]
  },
  {
   "cell_type": "code",
   "execution_count": 3,
   "id": "8a1120f9",
   "metadata": {},
   "outputs": [],
   "source": [
    "class ModelProcess(BasePiepline):\n",
    "    def __init__(self, preprocess_object):\n",
    "        super().__init__()\n",
    "        self.preprocessing = preprocess_object()\n",
    "model_process = ModelProcess(DataPreprocessing) # NOTE: 커스텀 전처리 클래스를 사용할 경우"
   ]
  },
  {
   "cell_type": "markdown",
   "id": "9db2f119",
   "metadata": {},
   "source": [
    "### 최적화 파라미터 값 가져오기"
   ]
  },
  {
   "cell_type": "code",
   "execution_count": 4,
   "id": "1579a001-7d97-4bdd-9657-9ba46352d19a",
   "metadata": {},
   "outputs": [],
   "source": [
    "params = get_best_params()"
   ]
  },
  {
   "cell_type": "markdown",
   "id": "3ccc16a8",
   "metadata": {},
   "source": [
    "### 모델 파라미터 적용"
   ]
  },
  {
   "cell_type": "code",
   "execution_count": 7,
   "id": "8446b332",
   "metadata": {},
   "outputs": [],
   "source": [
    "_model = model.xgboost.set_params(**params)"
   ]
  },
  {
   "cell_type": "markdown",
   "id": "8965af18",
   "metadata": {},
   "source": [
    "### 스코어 확인"
   ]
  },
  {
   "cell_type": "code",
   "execution_count": 8,
   "id": "f39bc233",
   "metadata": {},
   "outputs": [
    {
     "name": "stderr",
     "output_type": "stream",
     "text": [
      "5it [02:25, 29.01s/it]"
     ]
    },
    {
     "name": "stdout",
     "output_type": "stream",
     "text": [
      "----[K-Fold Validation Score]-----\n",
      "f1 score : 0.8416 / STD: (+/- 0.0024)\n",
      "precision score : 0.8313 / STD: (+/- 0.0022)\n",
      "recall score : 0.8533 / STD: (+/- 0.0036)\n"
     ]
    },
    {
     "name": "stderr",
     "output_type": "stream",
     "text": [
      "\n"
     ]
    }
   ],
   "source": [
    "model_process.valid(_model)"
   ]
  },
  {
   "cell_type": "markdown",
   "id": "6302255b",
   "metadata": {},
   "source": [
    "### 전체 실행(서브밋 단계 까지)"
   ]
  },
  {
   "cell_type": "code",
   "execution_count": 18,
   "id": "ea601291",
   "metadata": {},
   "outputs": [
    {
     "name": "stdout",
     "output_type": "stream",
     "text": [
      "진입\n",
      "0.012153916925365852\n",
      "{'model_name': 'XGBClassifier', 'model_instance': XGBClassifier(base_score=None, booster=None, callbacks=None,\n",
      "              colsample_bylevel=None, colsample_bynode=None,\n",
      "              colsample_bytree=0.8734150979529018, device=None,\n",
      "              early_stopping_rounds=None, enable_categorical=False,\n",
      "              eval_metric=None, feature_types=None, gamma=0.017600210882064204,\n",
      "              grow_policy=None, importance_type=None,\n",
      "              interaction_constraints=None, learning_rate=0.0947263260073529,\n",
      "              max_bin=None, max_cat_threshold=None, max_cat_to_onehot=None,\n",
      "              max_delta_step=None, max_depth=10, max_leaves=None,\n",
      "              min_child_weight=1, missing=nan, monotone_constraints=None,\n",
      "              multi_strategy=None, n_estimators=373, n_jobs=None,\n",
      "              num_parallel_tree=None, objective='multi:softprob', ...)}\n",
      "0.012153916925365852\n",
      "?여ㅑ기인가?\n"
     ]
    }
   ],
   "source": [
    "model_process.run(_model)"
   ]
  },
  {
   "cell_type": "code",
   "execution_count": null,
   "id": "ff4dd61d-0dc2-4b5a-87e3-22b0898612b1",
   "metadata": {},
   "outputs": [],
   "source": []
  }
 ],
 "metadata": {
  "kernelspec": {
   "display_name": "Python 3 (ipykernel)",
   "language": "python",
   "name": "python3"
  },
  "language_info": {
   "codemirror_mode": {
    "name": "ipython",
    "version": 3
   },
   "file_extension": ".py",
   "mimetype": "text/x-python",
   "name": "python",
   "nbconvert_exporter": "python",
   "pygments_lexer": "ipython3",
   "version": "3.11.5"
  }
 },
 "nbformat": 4,
 "nbformat_minor": 5
}
